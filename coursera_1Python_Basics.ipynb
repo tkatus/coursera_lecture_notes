{
 "cells": [
  {
   "cell_type": "markdown",
   "id": "14c6efd1-309b-41d3-a32d-b4989bbe9747",
   "metadata": {},
   "source": [
    "# Coursera Python for DSs\n",
    "__cheat sheet__"
   ]
  },
  {
   "cell_type": "markdown",
   "id": "64589e5a-eadd-492f-8218-3ce676934d06",
   "metadata": {},
   "source": [
    "# WEEK 1: Regular Expressions"
   ]
  },
  {
   "cell_type": "markdown",
   "id": "5a0a398b-bec8-4a26-a2f3-b44321d71b2c",
   "metadata": {},
   "source": [
    "--------\n",
    "__Miscellaneous__\n",
    "\n",
    "Web resources: podcast python bytes, webpage planet python\n",
    "\n",
    "__dictionaries, formattedStrings, date/time, lambda, map, list comprehension, numpy__"
   ]
  },
  {
   "cell_type": "code",
   "execution_count": 105,
   "id": "15ff2dad-7fe2-412b-9e33-abd9f7da6723",
   "metadata": {},
   "outputs": [
    {
     "name": "stdout",
     "output_type": "stream",
     "text": [
      "{'name': 'Peter', 'item_bought': 'TFT', 'item_price': 100, 'quantity': 3}\n",
      "\n",
      "\n",
      "Peter bought 3 TFT, each prized 100$, and paid 300$ overall\n"
     ]
    }
   ],
   "source": [
    "x = {'name': 'Peter', 'item_bought': 'TFT', 'item_price': 100, 'quantity': 3}\n",
    "print(x)\n",
    "print('\\n')\n",
    "strF = '{} bought {} {}, each prized {}$, and paid {}$ overall'\n",
    "\n",
    "print(strF.format(x['name'], x['quantity'], x['item_bought'], x['item_price'],  x['item_price'] * x['quantity']))"
   ]
  },
  {
   "cell_type": "code",
   "execution_count": 106,
   "id": "743a30e0-0dc1-41ff-a30c-2b5a83c13061",
   "metadata": {},
   "outputs": [
    {
     "name": "stdout",
     "output_type": "stream",
     "text": [
      "country                         Albania\n",
      "beer_servings                        89\n",
      "spirit_servings                     132\n",
      "wine_servings                        54\n",
      "total_litres_of_pure_alcohol        4.9\n",
      "continent                            EU\n",
      "Name: 1, dtype: object\n"
     ]
    }
   ],
   "source": [
    "#read CSV\n",
    "import pandas as pd\n",
    "fn = r'https://raw.github.com/tkatus/coursera_lecture_notes/main/lectures_datasets/drinks.csv'\n",
    "mpg = pd.read_csv(fn)\n",
    "print(mpg.iloc[1])\n",
    "\n",
    "# open uses a local file and would work like this:\n",
    "# import csv\n",
    "# %precision 2\n",
    "# with open(fn) as csvfile:\n",
    "#    mpg = list(csv.DictReader(csvfile))\n",
    "# mpg[1]\n",
    "\n",
    "# manually calculate mean beer & wine servings per continent would work like this:\n",
    "# continentList = list(set(d['continent'] for d in mpg))\n",
    "# print(continentList)\n",
    "\n",
    "# beerList = []; wineList = []; countriesPerCont = []\n",
    "#for t in continentList:\n",
    "#    sumBeer = 0\n",
    "#    sumWine = 0\n",
    "#    counter = 0\n",
    "#    for d in mpg:\n",
    "#        if d['continent'] == t:\n",
    "#            counter += 1\n",
    "#            sumBeer += float(d['beer_servings'])\n",
    "#            sumWine += float(d['wine_servings'])\n",
    "    \n",
    "#    countriesPerCont.append(counter)\n",
    "#    beerList.append(sumBeer/counter)\n",
    "#    wineList.append(sumWine/counter)\n",
    " \n",
    "#fStr = 'Continent {}: # countries = {} mean beer = {} mean wine = {}'\n",
    "#for d in range(0, len(continentList)):\n",
    "#    print(fStr.format(continentList[d], countriesPerCont[d], beerList[d], wineList[d]))\n",
    "# a = map(min, beerList, wineList)\n",
    "# print(list(a))"
   ]
  },
  {
   "cell_type": "code",
   "execution_count": 107,
   "id": "42e7c5a7-ae64-447e-9b2a-9b919bb274f6",
   "metadata": {},
   "outputs": [
    {
     "name": "stdout",
     "output_type": "stream",
     "text": [
      "Dr.Brooks\n",
      "Dr.Collins-Thompson\n",
      "Dr.Vydiswaran\n",
      "Dr.Romero\n"
     ]
    },
    {
     "data": {
      "text/plain": [
       "['Dr.Brooks', 'Dr.Collins-Thompson', 'Dr.Vydiswaran', 'Dr.Romero']"
      ]
     },
     "execution_count": 107,
     "metadata": {},
     "output_type": "execute_result"
    }
   ],
   "source": [
    "# Map function does one operation in an entire list (or multiple lists) - it is an implicit for loop\n",
    "\n",
    "people = ['Dr. Christopher Brooks', 'Dr. Kevyn Collins-Thompson', 'Dr. VG Vinod Vydiswaran', 'Dr. Daniel Romero']\n",
    "\n",
    "def split_title_and_name(person):\n",
    "    a = person.split()\n",
    "    return a[0] + a[-1] #Your answer here\n",
    "\n",
    "# two ways to return only title and surname of people - loop vs map\n",
    "for d in people:\n",
    "    print(split_title_and_name(d))\n",
    "    \n",
    "list(map(split_title_and_name, people))\n"
   ]
  },
  {
   "cell_type": "code",
   "execution_count": 108,
   "id": "3bc72356-0fa0-49d1-9dfd-457bbcb0ac77",
   "metadata": {},
   "outputs": [
    {
     "name": "stdout",
     "output_type": "stream",
     "text": [
      "2022-05-26 14:01:21.627026\n"
     ]
    },
    {
     "data": {
      "text/plain": [
       "datetime.date(2020, 7, 29)"
      ]
     },
     "execution_count": 108,
     "metadata": {},
     "output_type": "execute_result"
    }
   ],
   "source": [
    "import datetime as dt\n",
    "import time as tm\n",
    "tm.time()\n",
    "\n",
    "print(dt.datetime.fromtimestamp(tm.time())) \n",
    "dt.date.today() - dt.timedelta(days=666) # which day was 666 days ago?"
   ]
  },
  {
   "cell_type": "code",
   "execution_count": 109,
   "id": "78f80c5f-18f4-4b3d-bcdd-f3070bacf74e",
   "metadata": {},
   "outputs": [
    {
     "data": {
      "text/plain": [
       "8"
      ]
     },
     "execution_count": 109,
     "metadata": {},
     "output_type": "execute_result"
    }
   ],
   "source": [
    "#Lambda = pythons anonymous function - it is limited to a SINGLE expression\n",
    "myFx = lambda a,b: a+b\n",
    "\n",
    "myFx(1,7)"
   ]
  },
  {
   "cell_type": "code",
   "execution_count": 110,
   "id": "ece8f3a3-7fee-4b7e-879d-e5ba9f0de98f",
   "metadata": {},
   "outputs": [
    {
     "name": "stdout",
     "output_type": "stream",
     "text": [
      "[0, 0, 0, 0, 1, 2, 0, 2, 4]\n",
      "[0, 0, 0, 0, 1, 2, 0, 2, 4]\n"
     ]
    }
   ],
   "source": [
    "# list comprehension: A great way to squeeze a lot of loops into a single line of code\n",
    "def times_tables():\n",
    "    lst = []\n",
    "    for i in range(3):\n",
    "        for j in range (3):\n",
    "            lst.append(i*j)\n",
    "    return lst\n",
    "\n",
    "print(times_tables())\n",
    "print([j*i for i in range(3) for j in range(3)]) # same thing as a list comprehension\n"
   ]
  },
  {
   "cell_type": "code",
   "execution_count": 111,
   "id": "dbe9b84b-5ebf-435d-a5e4-cb90168943d3",
   "metadata": {},
   "outputs": [
    {
     "name": "stdout",
     "output_type": "stream",
     "text": [
      "[[ 1  2]\n",
      " [ 5  6]\n",
      " [ 9 10]]\n",
      "\n",
      "\n",
      "[ 1 10]\n",
      "\n",
      "\n",
      "[[ 1  2]\n",
      " [ 9 10]]\n"
     ]
    }
   ],
   "source": [
    "import numpy as np\n",
    "\n",
    "a = np.array([[1,2], [5,6], [9,10]])\n",
    "print(a)\n",
    "print('\\n')\n",
    "print(a[[0,2],[0, 1]]) # similar to a zip: coordinates are [0,0] and [2,1]\n",
    "print('\\n')\n",
    "#print(a[[0:2],[0:2]]) \n",
    "print(a[[0, 2], 0:2]) \n"
   ]
  },
  {
   "cell_type": "code",
   "execution_count": 112,
   "id": "d108901d-1d6d-46f6-b859-b258e60e5032",
   "metadata": {},
   "outputs": [
    {
     "data": {
      "image/png": "[encoded data removed]",
      "text/plain": [
       "<PIL.Image.Image image mode=L size=132x148>"
      ]
     },
     "metadata": {},
     "output_type": "display_data"
    },
    {
     "data": {
      "image/png": "[encoded data removed]",
      "text/plain": [
       "<PIL.Image.Image image mode=L size=132x148>"
      ]
     },
     "metadata": {},
     "output_type": "display_data"
    }
   ],
   "source": [
    "from PIL import Image\n",
    "import requests\n",
    "from io import BytesIO\n",
    "\n",
    "response = requests.get(r'https://raw.github.com/tkatus/coursera_lecture_notes/main/lectures_datasets/einstein.jpg')\n",
    "im = Image.open(BytesIO(response.content))\n",
    "\n",
    "im = im.resize((132, 148))\n",
    "display(im)\n",
    "\n",
    "imMask = np.full(np.shape(im), 255)\n",
    "imInv = imMask - im\n",
    "display(Image.fromarray(imInv.astype(np.uint8)))"
   ]
  },
  {
   "cell_type": "markdown",
   "id": "3da5d08c-b346-41e7-a1c5-ef4941384b74",
   "metadata": {},
   "source": [
    "----------\n",
    "__Regular Expressions__\n",
    "\n",
    "\\* character is repeated 0 or more times == {0,}\n",
    "\n",
    "\\+ character is repeated 1 or more times == {1,}\n",
    "\n",
    "\\. any char except newline (\\\\n) ==   not sure  [\\d\\w]\n",
    "\n",
    "\\? preceding char is optional\n",
    "\n",
    "\\^ vs \\$ anchor: match must be at string start vs end\n",
    "\n",
    "\\[...] vs [^...] matches vs mismatches a char in set\n",
    "\n",
    "/d any digit\n",
    "\n",
    "/w any alphanumeric (any lowercase or uppercase letter, underscore character, or any digit)\n",
    "\n",
    "/s whitespace"
   ]
  },
  {
   "cell_type": "code",
   "execution_count": 113,
   "id": "c33f1585-94e9-4ef2-b5bb-ed692e0e126d",
   "metadata": {},
   "outputs": [
    {
     "name": "stdout",
     "output_type": "stream",
     "text": [
      "<re.Match object; span=(18, 25), match='trivial'>\n",
      "EASY\n",
      "Standard split fx: ['', ' is far from trivial. ', ' is important. If ', ' were easier I could learn them in 5m.']\n",
      "re.split: ['', ' is far from trivial. ', ' is important. If ', ' were easier I could learn them in 5m.']\n",
      "3\n",
      "number of regex in str: 3\n",
      "number of vowels: 30 i.e., ['e', 'e', 'i', 'a', 'o', 'i', 'i', 'a', 'e', 'e', 'i', 'i', 'o', 'a', 'i', 'e', 'e', 'e', 'e', 'e', 'a', 'i', 'e', 'i', 'o', 'u', 'e', 'a', 'e', 'i']\n",
      "number of consonants: 42\n",
      "number of non-letters (e.g., space, period, or digits): 21\n",
      "number of vowels followed by vowels: 5 i.e., ['ia', 'ea', 'ie', 'ou', 'ea']\n",
      "number of a followed by e, or vice versa: 2 i.e., ['ea', 'ea']\n"
     ]
    }
   ],
   "source": [
    "import re\n",
    "\n",
    "text = 'RegEx is far from trivial.'\n",
    "print(re.search('trivial', text))\n",
    "\n",
    "if re.search('trivial', text):\n",
    "    print('EASY')\n",
    "else: \n",
    "    print('NOT EASY')\n",
    "\n",
    "# NOTE: not clear to me how/why the re.split() method differs from split(): both split a text based on a template\n",
    "text = 'RegEx is far from trivial. RegEx is important. If RegEx were easier I could learn them in 5m.'\n",
    "print('Standard split fx: ' + str(text.split('RegEx')))\n",
    "print('re.split: ' + str(re.split('RegEx', text)))\n",
    "re.split('RegEx', text)\n",
    "\n",
    "print(len(re.findall('RegEx', text)))\n",
    "print('number of regex in str: ' + str(len(re.findall('regex', text.lower())))) # try with lowercase\n",
    "\n",
    "# lets count the number of vowels in text\n",
    "a = re.findall('[aeiou]', text.lower())\n",
    "print('number of vowels: ' + str(len(a))  + ' i.e., ' + str(a))\n",
    "\n",
    "# lets count the number of consonants using a range of chars\n",
    "a = len(re.findall('[a-z]', text.lower())) - len(re.findall('[aeiou]', text.lower()))\n",
    "print('number of consonants: ' + str(a))\n",
    "\n",
    "# lets count the number of non-characters\n",
    "a = len(re.findall('[^a-z]', text.lower()))\n",
    "print('number of non-letters (e.g., space, period, or digits): ' + str(a))\n",
    "\n",
    "# lets count the number of vowels that are followed by another vowel - using a set operator\n",
    "a = re.findall('[aeiou][aeoiu]', text.lower())\n",
    "print('number of vowels followed by vowels: ' + str(len(a)) + ' i.e., ' + str(a))\n",
    "\n",
    "# lets do something similar using a logical OR \n",
    "a = re.findall('ae|ea', text.lower())\n",
    "print('number of a followed by e, or vice versa: ' + str(len(a)) + ' i.e., ' + str(a))\n"
   ]
  },
  {
   "cell_type": "markdown",
   "id": "ae82f6bf-33e5-4394-a05d-42dd1c21b35e",
   "metadata": {},
   "source": [
    "-----------\n",
    "__QUANTIFIERS__"
   ]
  },
  {
   "cell_type": "code",
   "execution_count": 114,
   "id": "9ed3dd37-cfac-4c88-86b3-bb12af369bbe",
   "metadata": {},
   "outputs": [
    {
     "name": "stdout",
     "output_type": "stream",
     "text": [
      "Repeated e or n: ['ee', 'nn']\n",
      "['ABB']\n",
      "['ACC', 'BC']\n",
      "['AAB', 'AB', 'B', 'AB']\n",
      "[('AA', 'B'), ('A', 'B'), ('', 'B'), ('A', 'B')]\n",
      "('AA', 'B')\n",
      "('A', 'B')\n",
      "('', 'B')\n",
      "('A', 'B')\n"
     ]
    }
   ],
   "source": [
    "# quantifiers define how often a pattern needs to be matched: e{m,n} where e = expression, m = min # matches, n = max # matches\n",
    "# IMPORTANT!!!!!! do not leave a space between m,n - correct = {m,n}, wrong = {m, n}!!!!!!!!! \n",
    "text = 'it is a wee bit annoying yeah'\n",
    "a = re.findall('[en]{2,}', text.lower())\n",
    "print('Repeated e or n: ' + str(a))\n",
    "\n",
    "text = 'AABACCABBABCA'\n",
    "a = re.findall('AB{2,}|BC{2,}', text)\n",
    "print(a)\n",
    "\n",
    "a = re.findall('[A|B]C{1,}', text) # drop in grades\n",
    "print(a)\n",
    "\n",
    "a = re.findall('A*B', text) # any times A (pot unlimited reps) followed by B\n",
    "print(a)\n",
    "\n",
    "# groups\n",
    "a = re.findall('(A*)(B)', text) # all combinations with B that may be preceded by an A (or nothing, but not a C)\n",
    "print(a)\n",
    "\n",
    "# seem to be stored in a strange tupel/dict way ... GROUPS\n",
    "for item in re.finditer('(A*)(B)', text):\n",
    "    print(item.groups())"
   ]
  },
  {
   "cell_type": "markdown",
   "id": "27bb2b69-7b26-44ea-934b-1477ad0a5d2a",
   "metadata": {},
   "source": [
    "------\n",
    "__WIKI example__"
   ]
  },
  {
   "cell_type": "code",
   "execution_count": 115,
   "id": "79eae7db-b182-4db0-b361-e2951738f9a9",
   "metadata": {},
   "outputs": [
    {
     "name": "stdout",
     "output_type": "stream",
     "text": [
      "['Annalena Baerbock', 'Bundestagswahl 2021', 'Annalena', 'Robert Habeck', 'Nora Tschirner', 'Kanzlerkandidat', 'Initiative Neue Soziale Marktwirtschaft', 'Auswärtiges Amt', 'Jetzt. Wie wir unser Land erneuern', 'Mai 2022']\n",
      "<bound method WikipediaPage.html of <WikipediaPage 'Annalena Baerbock'>>\n",
      "https://de.wikipedia.org/wiki/Annalena_Baerbock\n",
      "https://upload.wikimedia.org/wikipedia/commons/d/d6/2019-05-09_Annalena_Baerbock_GR%C3%9CNE_MdB_by_Olaf_Kosinsky_1777.jpg\n"
     ]
    }
   ],
   "source": [
    "# use regEx to \n",
    "#    a) list all categories (manually)\n",
    "#    b) list all hyperlinks\n",
    "#    c) list & display all JPEG pix\n",
    "# 2 then compare a-c with O Scholz (using finditer) \n",
    "\n",
    "import wikipedia\n",
    "wikipedia.set_lang(\"de\")\n",
    "print(wikipedia.search('Annalena Baerbock'))\n",
    "page_object = wikipedia.page('Annalena Baerbock')\n",
    "print(page_object.html) # printing html of page_object\n",
    "print(page_object.url)              # print page url\n",
    "print(page_object.images[0]) # get URLs of pix\n",
    "#print('\\n' + page_object.original_title + '\\n')   # print page title\n",
    "#print(page_object.categories)\n",
    "\n",
    "text = page_object.content\n",
    "img_urls = page_object.images"
   ]
  },
  {
   "cell_type": "code",
   "execution_count": 116,
   "id": "bdc06681-39e6-46c6-804c-13489beb544a",
   "metadata": {},
   "outputs": [
    {
     "name": "stdout",
     "output_type": "stream",
     "text": [
      "['der europa', 'bag europa', 'bundesarbeitsgemeinschaft europa', 'bag europa', 'der europa', 'in europa', 'des europa', 'in europa', 'nach europa', 'müsse europa', 'muss europa', 'überparteilichen europa']\n",
      "['der europa', 'bag europa', 'bundesarbeitsgemeinschaft europa', 'bag europa', 'der europa', 'in europa', 'des europa', 'in europa', 'nach europa', 'müsse europa', 'muss europa', 'überparteilichen europa']\n",
      "der\n",
      "bag\n",
      "bundesarbeitsgemeinschaft\n",
      "bag\n",
      "der\n",
      "in\n",
      "des\n",
      "in\n",
      "nach\n",
      "müsse\n",
      "muss\n",
      "überparteilichen\n",
      "[('der', 'europa'), ('bag', 'europa'), ('bundesarbeitsgemeinschaft', 'europa'), ('bag', 'europa'), ('der', 'europa'), ('in', 'europa'), ('des', 'europa'), ('regierungsamt', 'deutschland'), ('industriestandort', 'deutschland'), ('dem', 'deutschland'), ('in', 'deutschland'), ('in', 'europa'), ('in', 'deutschland'), ('nach', 'europa'), ('dass', 'deutschland'), ('müsse', 'europa'), ('aus', 'deutschland'), ('bundesrepublik', 'deutschland'), ('werde', 'deutschland'), ('muss', 'europa'), ('industriestandort', 'deutschland'), ('dem', 'deutschland'), ('vdk', 'deutschland'), ('in', 'deutschland'), ('überparteilichen', 'europa'), ('union', 'deutschland'), ('in', 'deutschland'), ('ist', 'deutschland')]\n",
      "('der', 'europa')\n",
      "('bag', 'europa')\n",
      "('bundesarbeitsgemeinschaft', 'europa')\n",
      "('bag', 'europa')\n",
      "('der', 'europa')\n",
      "('in', 'europa')\n",
      "('des', 'europa')\n",
      "('regierungsamt', 'deutschland')\n",
      "('industriestandort', 'deutschland')\n",
      "('dem', 'deutschland')\n",
      "('in', 'deutschland')\n",
      "('in', 'europa')\n",
      "('in', 'deutschland')\n",
      "('nach', 'europa')\n",
      "('dass', 'deutschland')\n",
      "('müsse', 'europa')\n",
      "('aus', 'deutschland')\n",
      "('bundesrepublik', 'deutschland')\n",
      "('werde', 'deutschland')\n",
      "('muss', 'europa')\n",
      "('industriestandort', 'deutschland')\n",
      "('dem', 'deutschland')\n",
      "('vdk', 'deutschland')\n",
      "('in', 'deutschland')\n",
      "('überparteilichen', 'europa')\n",
      "('union', 'deutschland')\n",
      "('in', 'deutschland')\n",
      "('ist', 'deutschland')\n",
      "\n",
      "\n",
      "der\n",
      "bag\n",
      "bundesarbeitsgemeinschaft\n",
      "bag\n",
      "der\n",
      "in\n",
      "des\n",
      "regierungsamt\n",
      "industriestandort\n",
      "dem\n",
      "in\n",
      "in\n",
      "in\n",
      "nach\n",
      "dass\n",
      "müsse\n",
      "aus\n",
      "bundesrepublik\n",
      "werde\n",
      "muss\n",
      "industriestandort\n",
      "dem\n",
      "vdk\n",
      "in\n",
      "überparteilichen\n",
      "union\n",
      "in\n",
      "ist\n",
      "\n",
      "Using DICTIONARIES & Labels:\n",
      "der\n",
      "bag\n",
      "bundesarbeitsgemeinschaft\n",
      "bag\n",
      "der\n",
      "in\n",
      "des\n",
      "regierungsamt\n",
      "industriestandort\n",
      "dem\n",
      "in\n",
      "in\n",
      "in\n",
      "nach\n",
      "dass\n",
      "müsse\n",
      "aus\n",
      "bundesrepublik\n",
      "werde\n",
      "muss\n",
      "industriestandort\n",
      "dem\n",
      "vdk\n",
      "in\n",
      "überparteilichen\n",
      "union\n",
      "in\n",
      "ist\n",
      "{'wordBefore': 'ist', 'Target': 'deutschland'}\n"
     ]
    }
   ],
   "source": [
    "#re.findall('[\\w]{1,100}[ europa]',text.lower())\n",
    "print(re.findall('[\\w]{1,100} europa',text.lower())) # find word before \"europa\"\n",
    "print(re.findall('[\\w]* europa',text.lower())) # word can be any length\n",
    "\n",
    "# let's only print the word before europa (without europa)\n",
    "for europa in re.findall('[\\w]* europa',text.lower()):\n",
    "    print(re.split(' ', europa)[0])\n",
    "    \n",
    "# do a very similar thing, but now the word and europa|deutschland are put in different groups \n",
    "regEx = '([\\w]*) (europa|deutschland)' # lets extend the search target to two possible items (OR)\n",
    "print(re.findall(regEx, text.lower())) # note: the empty space is on purpose to indicate an empty space, the parentheses identify groups\n",
    "\n",
    "regEx = '([\\w]*) (europa|deutschland)'\n",
    "for item in re.finditer(regEx, text.lower()):\n",
    "    print(item.groups()) # without arguments this corresponds to index[0] = entire group\n",
    "    \n",
    "print('\\n')\n",
    "# lets repeat this trick but only print out the word before the search target\n",
    "for item in re.finditer(regEx, text.lower()):\n",
    "    print(item.group(1)) # that is the word we are interested in\n",
    "    #print(item.group(2)) # that is the target \n",
    "\n",
    "print('\\nUsing DICTIONARIES & Labels:')\n",
    "# finally, we assign labels - they need to be included in the regEx, in fact they need to be in the parentheses of each group\n",
    "regEx = '(?P<wordBefore>[\\w]*) (?P<Target>europa|deutschland)'\n",
    "for item in re.finditer(regEx, text.lower()):\n",
    "    print(item.groupdict()['wordBefore']) # that is the word we are interested in\n",
    "\n",
    "print(item.groupdict())"
   ]
  },
  {
   "cell_type": "markdown",
   "id": "8d8742aa-718f-4d59-b8d6-077e15e060e8",
   "metadata": {},
   "source": [
    "-------\n",
    "# Week 2: Series and DataFrames"
   ]
  },
  {
   "cell_type": "markdown",
   "id": "f47a8e76-294e-4ba1-b366-ed3655bb9ae6",
   "metadata": {},
   "source": [
    "__import from CSV__"
   ]
  },
  {
   "cell_type": "code",
   "execution_count": 117,
   "id": "66447f52-a216-4429-9b06-681be9ca8098",
   "metadata": {},
   "outputs": [
    {
     "name": "stdout",
     "output_type": "stream",
     "text": [
      "SERIES ====================================================================================================\n",
      "Alice    90\n",
      "Josh     99\n",
      "Craig    70\n",
      "dtype: int64\n",
      "Alice    90\n",
      "Josh     99\n",
      "Craig    70\n",
      "dtype: int64\n",
      "70\n",
      "70\n",
      "70\n",
      "70\n",
      "Alice    90\n",
      "Josh     99\n",
      "Craig    70\n",
      "morg      1\n",
      "morg      2\n",
      "morg      3\n",
      "dtype: int64\n"
     ]
    },
    {
     "name": "stderr",
     "output_type": "stream",
     "text": [
      "C:\\Users\\s01tk9\\AppData\\Local\\Temp\\ipykernel_6180\\2153099867.py:16: FutureWarning: The series.append method is deprecated and will be removed from pandas in a future version. Use pandas.concat instead.\n",
      "  print(studs.append(pd.Series([1,2,3], index = ['morg', 'morg', 'morg']))) # make sure that the appended object is a series or DF\n"
     ]
    }
   ],
   "source": [
    "print('SERIES ' + '='*100)\n",
    "import pandas as pd\n",
    "studs = pd.Series({'Alice': 90, 'Josh': 99, 'Craig': 70}) # approach 1: use dict\n",
    "print(studs)\n",
    "\n",
    "studs = pd.Series([90, 99, 70], index = ['Alice', 'Josh', 'Craig']) # approach 2: use list + separate index (optional)\n",
    "print(studs)\n",
    "\n",
    "# Accessing series:\n",
    "print(studs.iloc[2]) # by location\n",
    "print(studs[2]) # or\n",
    "print(studs.loc['Craig']) # by value (index val)\n",
    "print(studs['Craig']) # or\n",
    "\n",
    "#append\n",
    "print(studs.append(pd.Series([1,2,3], index = ['morg', 'morg', 'morg']))) # make sure that the appended object is a series or DF\n",
    "# import CSV\n"
   ]
  },
  {
   "cell_type": "markdown",
   "id": "a04da502-856a-45e7-a160-5955101972df",
   "metadata": {},
   "source": [
    "-------\n",
    "__Creating Dataframes__"
   ]
  },
  {
   "cell_type": "code",
   "execution_count": 118,
   "id": "71fbd943-d8f1-47e1-8269-7d5527e506f3",
   "metadata": {},
   "outputs": [
    {
     "name": "stdout",
     "output_type": "stream",
     "text": [
      "DataFrames ====================================================================================================\n",
      "      Name    Class  Grade\n",
      "UCL  Alice  History     89\n",
      "UoA   Josh    Maths     76\n",
      "UoA  Craig  English     71\n",
      "      Name    Class  Grade\n",
      "UCL  Alice  History     89\n",
      "UoA   Josh    Maths     76\n",
      "UoA  Craig  English     71\n",
      "      Name    Class  Grade\n",
      "UCL  Alice  History     89\n",
      "UoA   Josh    Maths     76\n",
      "UoA  Craig  English     71\n"
     ]
    }
   ],
   "source": [
    "print('DataFrames ' + '='*100)\n",
    "\n",
    "# Approach1: cat separate Series, each with one case, that have been defined as dicts\n",
    "r1 = pd.Series({'Name': 'Alice', 'Class': 'History', 'Grade': 89}) # note: the index here refers to the features\n",
    "r2 = pd.Series({'Name': 'Josh', 'Class': 'Maths', 'Grade': 76}) # note: the index here refers to the features\n",
    "r3 = pd.Series({'Name': 'Craig', 'Class': 'English', 'Grade': 71}) # note: the index here refers to the features\n",
    "df = pd.DataFrame([r1,r2,r3], index = ['UCL', 'UoA', 'UoA']) # note that the index now refers to the cases/samples\n",
    "print(df)\n",
    "\n",
    "# Approach 2: use 1 dict with multiple entries\n",
    "df = [{'Name': 'Alice', 'Class': 'History', 'Grade': 89},\n",
    "      {'Name': 'Josh', 'Class': 'Maths', 'Grade': 76},\n",
    "      {'Name': 'Craig', 'Class': 'English', 'Grade': 71}]\n",
    "df = pd.DataFrame(df, index = ['UCL', 'UoA', 'UoA'])\n",
    "print(df)\n",
    "\n",
    "# Approach3: start from scratch - define  rowInds now and features later on\n",
    "df = pd.DataFrame([['Alice', 'History', 89], ['Josh', 'Maths', 76], ['Craig', 'English', 71]], index = ['UCL', 'UoA', 'UoA'])\n",
    "df.columns = ['Name', 'Class', 'Grade']\n",
    "print(df)\n"
   ]
  },
  {
   "cell_type": "markdown",
   "id": "bb67d8ff-3d33-458c-af14-9f6f6614f32b",
   "metadata": {},
   "source": [
    "-------\n",
    "__acessing data (iloc, loc), adding/dropping data__"
   ]
  },
  {
   "cell_type": "code",
   "execution_count": 119,
   "id": "27d7fcbb-ce89-4fbe-8d82-eb026f0f9809",
   "metadata": {},
   "outputs": [
    {
     "name": "stdout",
     "output_type": "stream",
     "text": [
      "ACCESSING DataFrames ====================================================================================================\n",
      "      Name    Class  Grade\n",
      "UCL  Alice  History     89\n",
      "UoA   Josh    Maths     76\n",
      "      Name    Class  Grade\n",
      "UCL  Alice  History     89\n",
      "UoA   Josh    Maths     76\n",
      "UoA  Craig  English     71\n",
      "      Name  Grade\n",
      "UCL  Alice     89\n",
      "UoA   Josh     76\n",
      "      Name  Grade\n",
      "UoA   Josh     76\n",
      "UoA  Craig     71\n",
      "      Name  Grade\n",
      "UoA   Josh     76\n",
      "UoA  Craig     71\n",
      "Drop data -----\n",
      "      Name    Class  Grade\n",
      "UCL  Alice  History     89\n",
      "       Class  Grade\n",
      "UCL  History     89\n",
      "UoA    Maths     76\n",
      "UoA  English     71\n",
      "None\n",
      "Add a new COLUMN -----\n",
      "       Class  Grade  noOfBeast\n",
      "UCL  History     89        666\n",
      "UoA    Maths     76        666\n",
      "UoA  English     71        666\n"
     ]
    }
   ],
   "source": [
    "print('ACCESSING DataFrames ' + '='*100)\n",
    "\n",
    "print(df.iloc[0:2]) #by indexLoc\n",
    "print(df.loc[['UCL', 'UoA']]) #by value (sample name)\n",
    "print(df.iloc[0:2][['Name', 'Grade']]) #by indexLoc, but show a single feature (by val)\n",
    "print(df.loc['UoA'][['Name', 'Grade']]) #by val, show two features (by val)\n",
    "print(df.loc['UoA',['Name', 'Grade']]) # same output\n",
    "\n",
    "print('Drop data -----')\n",
    "print(df.drop('UoA')) # drop row(s) [axis=0, default]\n",
    "print(df.drop('Name',axis=1))\n",
    "print(df.drop('Name',inplace=True,axis=1)) #NOTE inplace is DESTRUCTIVE - it will change the original df!\n",
    "\n",
    "print('Add a new COLUMN -----')\n",
    "df['noOfBeast'] = 666\n",
    "print(df)"
   ]
  },
  {
   "cell_type": "markdown",
   "id": "0d251488-99f7-40cd-b946-8603c38bec05",
   "metadata": {},
   "source": [
    "-------\n",
    "__editing columns (rename feat labels)__"
   ]
  },
  {
   "cell_type": "code",
   "execution_count": 120,
   "id": "576f77b2-cec5-40b6-83ef-52d19ffd6ddb",
   "metadata": {},
   "outputs": [
    {
     "name": "stdout",
     "output_type": "stream",
     "text": [
      "Reading DataFrames from CSVs ====================================================================================================\n",
      "             Survived  Pclass     Sex   Age  SibSp\n",
      "PassengerId                                       \n",
      "1                   0       3    male  22.0      1\n",
      "2                   1       1  female  38.0      1\n",
      "3                   1       3  female  26.0      0\n",
      "4                   1       1  female  35.0      1\n",
      "5                   0       3    male  35.0      0\n",
      "             Survived  Pclass     Sex   Age  nSiblings\n",
      "PassengerId                                           \n",
      "1                   0       3    male  22.0          1\n",
      "2                   1       1  female  38.0          1\n",
      "3                   1       3  female  26.0          0\n",
      "4                   1       1  female  35.0          1\n",
      "5                   0       3    male  35.0          0\n",
      "             survived  pclass     sex   age  nsiblings\n",
      "PassengerId                                           \n",
      "1                   0       3    male  22.0          1\n",
      "2                   1       1  female  38.0          1\n",
      "3                   1       3  female  26.0          0\n",
      "4                   1       1  female  35.0          1\n",
      "5                   0       3    male  35.0          0\n",
      "put all columns to uppercase\n",
      "                                                          NAME     SEX   AGE\n",
      "PassengerId                                                                 \n",
      "1                                      Braund, Mr. Owen Harris    male  22.0\n",
      "2            Cumings, Mrs. John Bradley (Florence Briggs Th...  female  38.0\n",
      "3                                       Heikkinen, Miss. Laina  female  26.0\n",
      "4                 Futrelle, Mrs. Jacques Heath (Lily May Peel)  female  35.0\n",
      "5                                     Allen, Mr. William Henry    male  35.0\n"
     ]
    }
   ],
   "source": [
    "print('Reading DataFrames from CSVs ' + '='*100)\n",
    "df = pd.read_csv(r'https://raw.githubusercontent.com/datasciencedojo/datasets/master/titanic.csv', index_col=0) #index_col makes sense if there is an ID in the data\n",
    "print(df[['Survived','Pclass','Sex', 'Age', 'SibSp']].head())\n",
    "\n",
    "# modify column names\n",
    "newDF = df.rename(columns = {'SibSp': 'nSiblings'})\n",
    "print(newDF[['Survived','Pclass','Sex', 'Age', 'nSiblings']].head())\n",
    "\n",
    "# clean column names - remove empty spaces\n",
    "newDF.rename(mapper = str.split, axis = 'columns')\n",
    "\n",
    "# manual approach to modify col names: remove spaces + make lowercase /// this worked in SPYDER\n",
    "cols = list(newDF.columns)\n",
    "cols = [c.lower().strip() for c in cols]\n",
    "newDF.columns = cols\n",
    "print(newDF[['survived','pclass','sex', 'age', 'nsiblings']].head())\n",
    "\n",
    "print('put all columns to uppercase')\n",
    "newDF = df.copy()\n",
    "newDF = df.rename(mapper = lambda x: x.upper(), axis = 1)\n",
    "print(newDF[['NAME', 'SEX', 'AGE']].head())\n"
   ]
  },
  {
   "cell_type": "markdown",
   "id": "e44d901f-1b89-4818-b8a4-1ea2d69a4227",
   "metadata": {},
   "source": [
    "---------\n",
    "__Boolean indexing, index edits (set, reset, multi-indexing)__"
   ]
  },
  {
   "cell_type": "code",
   "execution_count": 121,
   "id": "80afebb7-e62d-417f-8363-f9a46728d781",
   "metadata": {},
   "outputs": [
    {
     "name": "stdout",
     "output_type": "stream",
     "text": [
      "Accessing content in DataFrames ====================================================================================================\n",
      "             Survived  Pclass     Sex   Age\n",
      "PassengerId                                \n",
      "1                 NaN     NaN     NaN   NaN\n",
      "2                 1.0     1.0  female  38.0\n",
      "3                 NaN     NaN     NaN   NaN\n",
      "4                 1.0     1.0  female  35.0\n",
      "5                 NaN     NaN     NaN   NaN\n",
      "             Survived  Pclass     Sex   Age\n",
      "PassengerId                                \n",
      "2                 1.0     1.0  female  38.0\n",
      "4                 1.0     1.0  female  35.0\n",
      "7                 0.0     1.0    male  54.0\n",
      "10                1.0     2.0  female  14.0\n",
      "12                1.0     1.0  female  58.0\n",
      "             Survived  Pclass     Sex   Age\n",
      "PassengerId                                \n",
      "2                   1       1  female  38.0\n",
      "4                   1       1  female  35.0\n",
      "7                   0       1    male  54.0\n",
      "10                  1       2  female  14.0\n",
      "12                  1       1  female  58.0\n",
      "...               ...     ...     ...   ...\n",
      "881                 1       2  female  25.0\n",
      "884                 0       2    male  28.0\n",
      "887                 0       2    male  27.0\n",
      "888                 1       1  female  19.0\n",
      "890                 1       1    male  26.0\n",
      "\n",
      "[400 rows x 4 columns]\n",
      "             Survived  Pclass     Sex   Age\n",
      "PassengerId                                \n",
      "2                   1       1  female  38.0\n",
      "4                   1       1  female  35.0\n",
      "10                  1       2  female  14.0\n",
      "12                  1       1  female  58.0\n",
      "16                  1       2  female  55.0\n",
      "          Survived  Pclass     Sex   Age\n",
      "Embarked                                \n",
      "S                0       3    male  22.0\n",
      "C                1       1  female  38.0\n",
      "S                1       3  female  26.0\n",
      "S                1       1  female  35.0\n",
      "S                0       3    male  35.0\n",
      "   Survived  Pclass     Sex   Age\n",
      "0         0       3    male  22.0\n",
      "1         1       1  female  38.0\n",
      "2         1       3  female  26.0\n",
      "3         1       1  female  35.0\n",
      "4         0       3    male  35.0\n",
      "               Survived   Age\n",
      "Sex    Pclass                \n",
      "male   3              0  22.0\n",
      "female 1              1  38.0\n",
      "       3              1  26.0\n",
      "       1              1  35.0\n",
      "male   3              0  35.0\n",
      "             Survived   Age\n",
      "Sex  Pclass                \n",
      "male 3              0  22.0\n",
      "     3              0  35.0\n",
      "     3              0   NaN\n",
      "     3              0   2.0\n",
      "     3              0  20.0\n",
      "...               ...   ...\n",
      "     3              0  19.0\n",
      "     3              0   NaN\n",
      "     3              0  33.0\n",
      "     3              0  25.0\n",
      "     3              0  32.0\n",
      "\n",
      "[347 rows x 2 columns]\n"
     ]
    },
    {
     "name": "stderr",
     "output_type": "stream",
     "text": [
      "C:\\Users\\s01tk9\\AppData\\Local\\Temp\\ipykernel_6180\\3637873919.py:28: PerformanceWarning: indexing past lexsort depth may impact performance.\n",
      "  print(dfC[['Survived', 'Age']].loc['male', 3]) # male, in class 3\n"
     ]
    }
   ],
   "source": [
    "print('Accessing content in DataFrames ' + '='*100)\n",
    "showVars = ['Survived','Pclass','Sex', 'Age']\n",
    "\n",
    "# using boolean mask and the where() method\n",
    "mask = df['Pclass']<3\n",
    "print(df[showVars].where(mask).head()) # here, all rows that do not meet the mask reqs are NaN'ed out\n",
    "print(df[showVars].where(mask).dropna().head()) # to remove the NaNs\n",
    "\n",
    "# simpler, with implicit boolean mask\n",
    "print(df[showVars][df['Pclass']<3]) \n",
    "\n",
    "# use mask where 2 conditions are satisfied\n",
    "print(df[showVars][(df['Pclass']<3) & (df['Survived'] == 1)].head())\n",
    "\n",
    "# Changing the INDEX\n",
    "dfC = df.copy()\n",
    "dfC = dfC.set_index('Embarked')\n",
    "print(dfC[showVars].head())\n",
    "dfC = dfC.reset_index() \n",
    "print(dfC[showVars].head()) # note that the old index (PassengerID) has been lost\n",
    "\n",
    "# MULTI-Indexing (neat, but not strictly necessary)\n",
    "#dfC = dfC.set_index(['Embarked', 'SibSp'])\n",
    "dfC = dfC.set_index(['Sex', 'Pclass'])\n",
    "print(dfC[['Survived', 'Age']].head())\n",
    "\n",
    "# retrieving a subset of cases with multi-inds: \n",
    "print(dfC[['Survived', 'Age']].loc['male', 3]) # male, in class 3\n",
    "\n",
    "# comparing two different combinations\n",
    "#a = dfC.loc[ [('male', 1), \n",
    "#              ('male', 2)] ]   # NOTE here the two conditions that define the two groups are passed as TUPEL, but can also done as lists (i.e., [])\n"
   ]
  },
  {
   "cell_type": "markdown",
   "id": "88f4c447-492b-4174-a4a8-f5c2483e389a",
   "metadata": {},
   "source": [
    "-----\n",
    "__Missing Values (isnan, dropna, fillna)__ "
   ]
  },
  {
   "cell_type": "code",
   "execution_count": 122,
   "id": "d4ce037a-867d-4899-b6d6-dc4bed54eb2a",
   "metadata": {},
   "outputs": [
    {
     "name": "stdout",
     "output_type": "stream",
     "text": [
      "            Cabin\n",
      "PassengerId      \n",
      "1             NaN\n",
      "2             C85\n",
      "3             NaN\n",
      "4            C123\n",
      "5             NaN\n",
      "PassengerId\n",
      "1     666\n",
      "2     C85\n",
      "3     666\n",
      "4    C123\n",
      "5     666\n",
      "Name: Cabin, dtype: object\n",
      "FORWARD-fill =========\n",
      "PassengerId\n",
      "1     NaN\n",
      "2     C85\n",
      "3     C85\n",
      "4    C123\n",
      "5    C123\n",
      "Name: Cabin, dtype: object\n",
      "BACKWARD-fill =========\n",
      "PassengerId\n",
      "1     C85\n",
      "2     C85\n",
      "3    C123\n",
      "4    C123\n",
      "5     E46\n",
      "Name: Cabin, dtype: object\n",
      "MANUAL-fill (requires knowing which scores to change) =========\n",
      "PassengerId\n",
      "1     NaN\n",
      "2     C85\n",
      "3     NaN\n",
      "4    C123\n",
      "5     NaN\n",
      "Name: Cabin, dtype: object\n"
     ]
    }
   ],
   "source": [
    "# FindNans via booleans \n",
    "# - df.isna(), df.isnull()\n",
    "# - to remove Missing Values\n",
    "\n",
    "print(df[['Cabin']].head())\n",
    "\"{} cases in dataFrame, but only {} valid (without NaNs)\".format(len(df),len(df.dropna()))\n",
    "print(df['Cabin'].fillna(666).head()) # use an arbitrary number - NOTE: fillna has an inplace = True option\n",
    "\n",
    "print('FORWARD-fill =========')\n",
    "print(df['Cabin'].fillna(method = 'ffill').head())\n",
    "print('BACKWARD-fill =========')\n",
    "print(df['Cabin'].fillna(method = 'bfill').head())\n",
    "\n",
    "print('MANUAL-fill (requires knowing which scores to change) =========')\n",
    "print(df['Cabin'].replace(1, 999).head()) # replace function // does not seem to work properly\n"
   ]
  },
  {
   "cell_type": "markdown",
   "id": "82a6dbe3-f238-479c-a91f-dbadd8c6c066",
   "metadata": {},
   "source": [
    "------\n",
    "__Manipulating DataFrames (replace with RegEx: replace, extract) - pt 1 Titanic__"
   ]
  },
  {
   "cell_type": "code",
   "execution_count": 123,
   "id": "59503c3f-1b7c-4eb2-b5d7-83180f0c63d0",
   "metadata": {},
   "outputs": [
    {
     "name": "stdout",
     "output_type": "stream",
     "text": [
      "Original Names col\n",
      "PassengerId\n",
      "1                              Braund, Mr. Owen Harris\n",
      "2    Cumings, Mrs. John Bradley (Florence Briggs Th...\n",
      "3                               Heikkinen, Miss. Laina\n",
      "4         Futrelle, Mrs. Jacques Heath (Lily May Peel)\n",
      "5                             Allen, Mr. William Henry\n",
      "Name: Name, dtype: object\n",
      "RegEx -  replace Mrs and Mr =========\n",
      "REPLACE Mr with Married Man and Mrs with Married Woman\n",
      "PassengerId\n",
      "1               Married Man\n",
      "2             Married Woman\n",
      "3    Heikkinen, Miss. Laina\n",
      "4             Married Woman\n",
      "5               Married Man\n",
      "Name: Name, dtype: object\n",
      "REPLACE anything after comma (,) with nil\n",
      "PassengerId\n",
      "1       Braund\n",
      "2      Cumings\n",
      "3    Heikkinen\n",
      "4     Futrelle\n",
      "5        Allen\n",
      "Name: Surname, dtype: object\n",
      "REPLACE text in parentheses () and also nicknames in quotes (\"\") with nil\n",
      "PassengerId\n",
      "1              Braund, Mr. Owen Harris\n",
      "2           Cumings, Mrs. John Bradley\n",
      "3               Heikkinen, Miss. Laina\n",
      "4         Futrelle, Mrs. Jacques Heath\n",
      "5             Allen, Mr. William Henry\n",
      "                    ...               \n",
      "887              Montvila, Rev. Juozas\n",
      "888       Graham, Miss. Margaret Edith\n",
      "889    Johnston, Miss. Catherine Helen\n",
      "890              Behr, Mr. Karl Howell\n",
      "891                Dooley, Mr. Patrick\n",
      "Name: Surname, Length: 891, dtype: object\n",
      "\n",
      "Particularly elegant: \n",
      "EXTRACT first name (starts after period & space) and last name (very first string in col)\n",
      "            First Name  Last Name\n",
      "PassengerId                      \n",
      "1                 Owen     Braund\n",
      "2                 John    Cumings\n",
      "3                Laina  Heikkinen\n",
      "4              Jacques   Futrelle\n",
      "5              William      Allen\n",
      "...                ...        ...\n",
      "887             Juozas   Montvila\n",
      "888           Margaret     Graham\n",
      "889          Catherine   Johnston\n",
      "890               Karl       Behr\n",
      "891            Patrick     Dooley\n",
      "\n",
      "[891 rows x 2 columns]\n"
     ]
    }
   ],
   "source": [
    "print('Original Names col')\n",
    "print(df['Name'].head())\n",
    "\n",
    "print('RegEx -  replace Mrs and Mr =========')\n",
    "newDF = df.copy()\n",
    "print('REPLACE Mr with Married Man and Mrs with Married Woman')\n",
    "newDF['Name'].replace(to_replace = r'.*Mr\\..*', value = 'Married Man', regex = True, inplace=True)\n",
    "newDF['Name'].replace(to_replace = r'.*Mrs\\..*', value = 'Married Woman', regex = True, inplace=True)\n",
    "print(newDF['Name'].head())\n",
    "\n",
    "newDF = df.copy()\n",
    "# shorten to First name\n",
    "print('REPLACE anything after comma (,) with nil')\n",
    "newDF['Surname'] = newDF['Name'].replace(to_replace = r'\\,.*', value = '', regex = True)\n",
    "print(newDF['Surname'].head())\n",
    "\n",
    "# strip any strings in parentheses: starting with space+( and ending with )\n",
    "newDF = df.copy()\n",
    "print('REPLACE text in parentheses () and also nicknames in quotes (\\\"\\\") with nil')\n",
    "newDF['Surname'] = newDF['Name'].replace(to_replace = r' \\(([^)]*)\\)', value='', regex=True)\n",
    "newDF['Surname'] = newDF['Surname'].replace(to_replace = r' \\\"([^\"]*)\\\"', value='', regex=True)\n",
    "# legend: \n",
    "    # \\(    = space + escape start par.\n",
    "    # (     = start capture group\n",
    "    # [^)]* = any element(s) that is NOT a closing par\n",
    "    # )     = end capture group\n",
    "    # \\)    = stop parenthesis\n",
    "# strip nicknames, printed in \"\"\n",
    "print(newDF['Surname'])\n",
    "\n",
    "print('\\nParticularly elegant: \\nEXTRACT first name (starts after period & space) and last name (very first string in col)')\n",
    "newDF = df.copy()\n",
    "newDF['First Name'] = newDF['Name'].str.extract(r'(?<=\\. )([\\w]*)')\n",
    "# Positive LookBehind - legend:\n",
    "    # (?<=\\. )  = capture group that looks behind a period followed by space\n",
    "    # ([\\w]*)   = group with first name\n",
    "\n",
    "newDF['Last Name'] = newDF['Name'].str.extract(r'(^[\\w]*)')\n",
    "    # first string in Name = surname\n",
    "print(newDF[['First Name', 'Last Name']])\n",
    "    \n",
    "#newDF['Name'].str.extract('(^[\\w]*)(?:.* )([\\w]*$)').head()  # take first name and last name, ignore anything in-between /// only works if no extra entries"
   ]
  },
  {
   "cell_type": "markdown",
   "id": "9257de3a-1be4-47ab-8b77-d5d50470a7f3",
   "metadata": {},
   "source": [
    "__Manipulating DataFrames - pt 2 Presidents__"
   ]
  },
  {
   "cell_type": "code",
   "execution_count": 124,
   "id": "3408d372-be9b-4193-bd32-a9723a609a19",
   "metadata": {},
   "outputs": [
    {
     "name": "stdout",
     "output_type": "stream",
     "text": [
      "           President             Born          Died\n",
      "#                                                  \n",
      "1  George Washington  Feb 22, 1732[a]  Dec 14, 1799\n",
      "2         John Adams  Oct 30, 1735[a]   Jul 4, 1826\n",
      "3   Thomas Jefferson  Apr 13, 1743[a]   Jul 4, 1826\n",
      "4      James Madison  Mar 16, 1751[a]  Jun 28, 1836\n",
      "5       James Monroe     Apr 28, 1758   Jul 4, 1831\n",
      "EXTRACT first name, middle name and last name\n",
      "           President First Name Middle Names   Last Name\n",
      "#                                                       \n",
      "1  George Washington     George               Washington\n",
      "2         John Adams       John                    Adams\n",
      "3   Thomas Jefferson     Thomas                Jefferson\n",
      "4      James Madison      James                  Madison\n",
      "5       James Monroe      James                   Monroe\n",
      "Convert dates into standard format using DATETIME\n",
      "         Born        Died\n",
      "#                        \n",
      "1  1732-02-22  1799-12-14\n",
      "2  1735-10-30  1826-07-04\n",
      "3  1743-04-13  1826-07-04\n",
      "4  1751-03-16  1836-06-28\n",
      "5  1758-04-28  1831-07-04\n",
      "NOTE: Pandas provides an easier way to get standard dates =======\n",
      "        Born          Died\n",
      "#                         \n",
      "1 1732-02-22  Dec 14, 1799\n",
      "2 1735-10-30   Jul 4, 1826\n",
      "3 1743-04-13   Jul 4, 1826\n",
      "4 1751-03-16  Jun 28, 1836\n",
      "5 1758-04-28   Jul 4, 1831\n"
     ]
    }
   ],
   "source": [
    "import pandas as pd\n",
    "df = pd.read_csv(r'https://raw.github.com/tkatus/coursera_lecture_notes/main/lectures_datasets/presidents.csv', index_col=0)\n",
    "showVars = ['President', 'Born', 'Died']\n",
    "\n",
    "print(df[showVars].head())\n",
    "newDF = df.copy()\n",
    "print('EXTRACT first name, middle name and last name')\n",
    "newDF['First Name'] = newDF['President'].str.extract(r'(^[\\w]*)')\n",
    "newDF['Middle Names'] = newDF['President'].str.extract(r'(?<= )([A-Za-z \\.]*)(?= )')\n",
    "    # lookahead of 1st space, look behind 2nd (or Nth) space\n",
    "newDF['Last Name'] = newDF['President'].str.extract(r'([\\w]*$)')\n",
    "newDF['Middle Names'] = newDF['Middle Names'].fillna('') #get rid of NaNs if no middle name\n",
    "#showVars.extend(['First Name', 'Middle Names', 'Last Name'])\n",
    "print(newDF[['President', 'First Name', 'Middle Names', 'Last Name']].head())\n",
    "\n",
    "print('Convert dates into standard format using DATETIME')\n",
    "from datetime import datetime\n",
    "newDF['Born'] = newDF['Born'].replace(to_replace=r'\\[a\\]$', value='', regex=True) # remove comment\n",
    "   \n",
    "vals= []\n",
    "for ind in range(0,len(newDF)):\n",
    "   vals.append(str(datetime.strptime(newDF.iloc[ind]['Born'], '%b %d, %Y').date()))\n",
    "\n",
    "newDF['Born'] = vals\n",
    "\n",
    "vals= []\n",
    "for ind in range(0,len(newDF)):\n",
    "   if newDF.iloc[ind]['Died'] == '(living)':\n",
    "        vals.append('(living)')  \n",
    "   else:          \n",
    "       vals.append(str(datetime.strptime(newDF.iloc[ind]['Died'], '%b %d, %Y').date()))\n",
    "\n",
    "newDF['Died'] = vals\n",
    "print(newDF[['Born', 'Died']].head())\n",
    "\n",
    "print('NOTE: Pandas provides an easier way to get standard dates =======')\n",
    "newDF=df.copy()\n",
    "newDF['Born'] = newDF['Born'].replace(to_replace=r'\\[a\\]$', value='', regex=True) # remove comment\n",
    "newDF['Born'] = pd.to_datetime(newDF['Born'])\n",
    "#newDF['Died'] = pd.to_datetime(newDF['Died'])\n",
    "print(newDF[['Born', 'Died']].head())\n"
   ]
  },
  {
   "cell_type": "markdown",
   "id": "71752d6f-b366-4ddf-95af-706d4aed1e99",
   "metadata": {},
   "source": [
    "-------\n",
    "# WEEK 3: Advanced DataFrames"
   ]
  },
  {
   "cell_type": "markdown",
   "id": "96f8cad8-cf81-4d37-b7d4-d263f24b6c20",
   "metadata": {},
   "source": [
    "__merging dataframes__"
   ]
  },
  {
   "cell_type": "code",
   "execution_count": 125,
   "id": "e8d7256c-83dd-413a-b066-9c49e9b57254",
   "metadata": {},
   "outputs": [
    {
     "name": "stdout",
     "output_type": "stream",
     "text": [
      "Concatenating dataframes is simple: the entries in the new set are just added as new cases (rows).\n",
      "           Course  Grade\n",
      "Name                    \n",
      "Jim       History     18\n",
      "James  Psychology     14\n",
      "       Age  Gender\n",
      "Name              \n",
      "James   27    male\n",
      "Jill    23  female\n",
      "This may create confusion if some entries are redundant (ie same index appears multiple times) but the keys are different (ie different vars).\n",
      "One way to deal with this is to add keys indicating where the data comes from\n",
      "                 Course  Grade   Age  Gender\n",
      "      Name                                  \n",
      "Set A Jim       History   18.0   NaN     NaN\n",
      "      James  Psychology   14.0   NaN     NaN\n",
      "Set B James         NaN    NaN  27.0    male\n",
      "      Jill          NaN    NaN  23.0  female\n"
     ]
    }
   ],
   "source": [
    "print('Concatenating dataframes is simple: the entries in the new set are just added as new cases (rows).')\n",
    "import pandas as pd\n",
    "#s1 = pd.Series(['Old Campus', 'Forr Hill', 'Old Campus'], index = ['Jill', 'James', 'Craig'])\n",
    "s1 = pd.Series(['Jim', 'History', 18], index = ['Name', 'Course', 'Grade'])\n",
    "s2 = pd.Series(['James', 'Psychology', 14], index = ['Name', 'Course', 'Grade'])\n",
    "df1 = pd.DataFrame([s1,s2], columns = ['Name', 'Course', 'Grade']) # note that the index now refers to the cases/samples\n",
    "df1 = df1.set_index('Name')\n",
    "\n",
    "s1 = pd.Series(['James', 27, 'male'], index = ['Name', 'Age', 'Gender'])\n",
    "s2 = pd.Series(['Jill', 23, 'female'], index = ['Name', 'Age', 'Gender'])\n",
    "df2 = pd.DataFrame([s1,s2], columns = ['Name', 'Age', 'Gender']) # note that the index now refers to the cases/samples\n",
    "df2 = df2.set_index('Name')\n",
    "\n",
    "print(df1)\n",
    "print(df2)\n",
    "\n",
    "print('This may create confusion if some entries are redundant (ie same index appears multiple times) but the keys are different (ie different vars).')\n",
    "print('One way to deal with this is to add keys indicating where the data comes from')\n",
    "print(pd.concat([df1, df2], keys=['Set A', 'Set B'])) # the keys indicate whether the data comes from Set1 or 2"
   ]
  },
  {
   "attachments": {
    "49b34a53-9b89-4969-bfd3-98358a52ebba.png": {
     "image/png": "[encoded data removed]"
    },
    "a9266e94-9d07-44e1-8df4-24153176cd0d.png": {
     "image/png": "[encoded data removed]"
    },
    "cc7ee52c-ef58-4e3b-b21b-6ecd3efef802.png": {
     "image/png": "[encoded data removed]"
    }
   },
   "cell_type": "markdown",
   "id": "89e0b5be-b92b-4afa-855e-fa4c9fa5a958",
   "metadata": {},
   "source": [
    "----------------------------------------------\n",
    "Typically, what we wanna do when joining sets is to INTEGRATE the data (ie keep cases, add features). Depending on how the data is joined, this results in cases being dropped (if not common to both sets) or that missing values will be inserted (for cases that exist only in one set). Logic of operators that join data sets:\n",
    "\n",
    "__Given:__ \\\n",
    "A: 1, 2, 3, 4\\\n",
    "B: 3, 4, 5, 6\n",
    "\n",
    "__inner join:__ only keys that are in both sets (INTERSECT)\\\n",
    "A: 3, 4\\\n",
    "B: 3, 4\n",
    "<div> <img src=\"attachment:49b34a53-9b89-4969-bfd3-98358a52ebba.png\" width=\"150\"/></div>\n",
    "\n",
    "__left outer:__ all keys in L-set, those that intersect for R-set \\\n",
    "A: 1, 2, 3, 4\\\n",
    "B: Nan, Nan, 3, 4\n",
    "<div> <img src=\"attachment:cc7ee52c-ef58-4e3b-b21b-6ecd3efef802.png\" width=\"150\"/></div>\n",
    "\n",
    "__right outer:__ all keys in R-set, those that intersect for L-set \\\n",
    "A: 3, 4, Nan, Nan\\\n",
    "B: 3, 4, 5, 6\n",
    "\n",
    "__full outer:__ all keys in both sets (UNION) \\\n",
    "A: 1, 2, 3, 4, Nan, Nan\\\n",
    "B: Nan, Nan, 3, 4, 5, 6\n",
    "<div> <img src=\"attachment:a9266e94-9d07-44e1-8df4-24153176cd0d.png\" width=\"150\"/></div>\n"
   ]
  },
  {
   "cell_type": "code",
   "execution_count": 126,
   "id": "b1ed430e-3817-4ec9-93d3-d442cd2c623b",
   "metadata": {},
   "outputs": [
    {
     "name": "stdout",
     "output_type": "stream",
     "text": [
      "The KEY that is used to join the sets is crucial - here: NAME (in Set A = Jim, James, Set B = James, Jill\n",
      "\n",
      "INNER is the default method (corresponds to INTERSECT). Non-matching cases are eliminated (here: Jim & Jill)\n",
      "           Course  Grade  Age Gender\n",
      "Name                                \n",
      "James  Psychology     14   27   male\n",
      "The same result is obtained by extending one set by another: df1.merge(df2, on = 'Name')\n",
      "\n",
      "LEFT OUTER = keep all elements in A (Jim, James) + intersect A&B\n",
      "           Course  Grade   Age Gender\n",
      "Name                                 \n",
      "Jim       History     18   NaN    NaN\n",
      "James  Psychology     14  27.0   male\n",
      "\n",
      "RIGHT OUTER = keep all elements in B (James, Jill) + intersect A&B\n",
      "           Course  Grade  Age  Gender\n",
      "Name                                 \n",
      "James  Psychology   14.0   27    male\n",
      "Jill          NaN    NaN   23  female\n",
      "\n",
      "FULL OUTER = Addition A + B\n",
      "           Course  Grade   Age  Gender\n",
      "Name                                  \n",
      "Jim       History   18.0   NaN     NaN\n",
      "James  Psychology   14.0  27.0    male\n",
      "Jill          NaN    NaN  23.0  female\n",
      "Final NOTE: there are also ways to get set differences (eg, A but not B) ...\n",
      "Note that you can also use multiple keys to match on\n",
      "    Name      Course  Grade Surname\n",
      "0    Jim     History     18  Reilly\n",
      "1  James  Psychology     14  Mackie\n",
      "\n",
      "\n",
      "    Name  Age  Gender Surname\n",
      "0  James   27    male  Mackie\n",
      "1   Jill   23  female  Reilly\n",
      "2    Jim   19    male  Burton\n",
      "\n",
      "Note that only the exact match on both keys is retained.\n",
      "\n",
      "    Name      Course  Grade Surname  Age Gender\n",
      "0  James  Psychology     14  Mackie   27   male\n"
     ]
    }
   ],
   "source": [
    "print('The KEY that is used to join the sets is crucial - here: NAME (in Set A = Jim, James, Set B = James, Jill')#. \\nThe names contained in Set A = Jim, James; Set B = James, Jill')\n",
    "print('\\nINNER is the default method (corresponds to INTERSECT). Non-matching cases are eliminated (here: Jim & Jill)')\n",
    "# inner = interect: eliminates cases that do not match (or marks them w nan)\n",
    "print(pd.merge(df1, df2,on='Name'))\n",
    "print('The same result is obtained by extending one set by another: df1.merge(df2, on = \\'Name\\')')\n",
    "\n",
    "\n",
    "print('\\nLEFT OUTER = keep all elements in A (Jim, James) + intersect A&B')\n",
    "print(df1.merge(df2, how='left', on='Name')) \n",
    "print('\\nRIGHT OUTER = keep all elements in B (James, Jill) + intersect A&B')\n",
    "print(df1.merge(df2, how='right', on='Name'))\n",
    "print('\\nFULL OUTER = Addition A + B')\n",
    "print(df1.merge(df2, how='outer', on='Name')) \n",
    "print('Final NOTE: there are also ways to get set differences (eg, A but not B) ...')\n",
    "\n",
    "print('Note that you can also use multiple keys to match on')\n",
    "df1['Surname'] = ['Reilly', 'Mackie'] # add column\n",
    "df1 = df1.reset_index()    # numeric index\n",
    "print(df1)\n",
    "print('\\n')\n",
    "\n",
    "df2.loc['Jim'] = [19, 'male'] # add record\n",
    "df2['Surname'] = ['Mackie', 'Reilly', 'Burton'] # add column\n",
    "df2 = df2.reset_index()\n",
    "print(df2)\n",
    "print('\\nNote that only the exact match on both keys is retained.\\n')\n",
    "print(df1.merge(df2, on=['Name', 'Surname'])) "
   ]
  },
  {
   "cell_type": "markdown",
   "id": "33559d85-a855-4929-b04e-cf388c6f2fec",
   "metadata": {},
   "source": [
    "--------\n",
    "__idioms - pandorable style: Chaining & apply(map)__"
   ]
  },
  {
   "cell_type": "code",
   "execution_count": 127,
   "id": "0f0ae31a-d4cc-4eac-ba70-5039ed4eb741",
   "metadata": {},
   "outputs": [
    {
     "name": "stdout",
     "output_type": "stream",
     "text": [
      "CHAINING: can improve readability\n",
      "    Name      Course  Grade Surname   Age  Gender\n",
      "0    Jim     History   18.0  Reilly   NaN     NaN\n",
      "1  James  Psychology   14.0  Mackie  27.0    male\n",
      "2   Jill       Maths   20.0  Reilly  23.0  female\n",
      "3    Jim         NaN    NaN  Burton  19.0    male\n"
     ]
    },
    {
     "data": {
      "text/html": [
       "<div>\n",
       "<style scoped>\n",
       "    .dataframe tbody tr th:only-of-type {\n",
       "        vertical-align: middle;\n",
       "    }\n",
       "\n",
       "    .dataframe tbody tr th {\n",
       "        vertical-align: top;\n",
       "    }\n",
       "\n",
       "    .dataframe thead th {\n",
       "        text-align: right;\n",
       "    }\n",
       "</style>\n",
       "<table border=\"1\" class=\"dataframe\">\n",
       "  <thead>\n",
       "    <tr style=\"text-align: right;\">\n",
       "      <th></th>\n",
       "      <th></th>\n",
       "      <th>Course</th>\n",
       "      <th>Grade</th>\n",
       "      <th>Age</th>\n",
       "      <th>Gender</th>\n",
       "    </tr>\n",
       "    <tr>\n",
       "      <th>First Name</th>\n",
       "      <th>Surname</th>\n",
       "      <th></th>\n",
       "      <th></th>\n",
       "      <th></th>\n",
       "      <th></th>\n",
       "    </tr>\n",
       "  </thead>\n",
       "  <tbody>\n",
       "    <tr>\n",
       "      <th>James</th>\n",
       "      <th>Mackie</th>\n",
       "      <td>Psychology</td>\n",
       "      <td>14.0</td>\n",
       "      <td>27.0</td>\n",
       "      <td>male</td>\n",
       "    </tr>\n",
       "    <tr>\n",
       "      <th>Jill</th>\n",
       "      <th>Reilly</th>\n",
       "      <td>Maths</td>\n",
       "      <td>20.0</td>\n",
       "      <td>23.0</td>\n",
       "      <td>female</td>\n",
       "    </tr>\n",
       "  </tbody>\n",
       "</table>\n",
       "</div>"
      ],
      "text/plain": [
       "                        Course  Grade   Age  Gender\n",
       "First Name Surname                                 \n",
       "James      Mackie   Psychology   14.0  27.0    male\n",
       "Jill       Reilly        Maths   20.0  23.0  female"
      ]
     },
     "execution_count": 127,
     "metadata": {},
     "output_type": "execute_result"
    }
   ],
   "source": [
    "print('CHAINING: can improve readability')\n",
    "pd.options.mode.chained_assignment = None  # default='warn'\n",
    "df = df1.merge(df2, how='outer', on=['Name', 'Surname'])\n",
    "df['Course'][2]='Maths'; \n",
    "df['Grade'][2]=20; \n",
    "print(df)\n",
    "\n",
    "(\n",
    "df.where(df['Age']>20)\n",
    "    .dropna()\n",
    "    .rename(columns = {'Name': 'First Name'})\n",
    "    .set_index(['First Name', 'Surname'])\n",
    ")"
   ]
  },
  {
   "cell_type": "code",
   "execution_count": 128,
   "id": "fdc9c540-e640-48f9-809d-a8df822d2750",
   "metadata": {},
   "outputs": [
    {
     "name": "stdout",
     "output_type": "stream",
     "text": [
      "APPLY: transform data in columns\n",
      "    Name      Course  Grade Surname   Age  Gender\n",
      "0    Jim     History   18.0  Reilly  22.0     NaN\n",
      "1  James  Psychology   14.0  Mackie  27.0    male\n",
      "2   Jill         NaN    NaN  Reilly  23.0  female\n",
      "3    Jim         NaN    NaN  Burton  19.0    male\n",
      "\n",
      "Multiply age with 2\n",
      "0    44.0\n",
      "1    54.0\n",
      "2    46.0\n",
      "3    38.0\n",
      "dtype: float64\n",
      "\n",
      "While lambda is a short anonymous function, this also works with CUSTOMIZED Fx that are passed to apply().\n",
      "Here we recode gender to a numeric val.\n",
      "\n",
      "    Name      Course  Grade Surname   Age  Gender\n",
      "0    Jim     History   18.0  Reilly  22.0     NaN\n",
      "1  James  Psychology   14.0  Mackie  27.0     1.0\n",
      "2   Jill         NaN    NaN  Reilly  23.0     2.0\n",
      "3    Jim         NaN    NaN  Burton  19.0     1.0\n",
      "\n",
      "For a fake dataset with entries for 2010-14, calculate mean per row for a certain time range\n",
      "       2010      2011      2012      2013\n",
      "0  0.892641  0.283672  0.333970  0.895351\n",
      "1  0.893443  0.102141  0.021085  0.726404\n",
      "2  0.250281  0.867908  0.486647  0.714310\n",
      "3  0.691479  0.995056  0.600458  0.648108\n",
      "4  0.239492  0.982581  0.609598  0.935334\n",
      "       2010      2011      2012      2013  ave11_13\n",
      "0  0.892641  0.283672  0.333970  0.895351  0.504331\n",
      "1  0.893443  0.102141  0.021085  0.726404  0.283210\n",
      "2  0.250281  0.867908  0.486647  0.714310  0.689622\n",
      "3  0.691479  0.995056  0.600458  0.648108  0.747874\n",
      "4  0.239492  0.982581  0.609598  0.935334  0.842504\n"
     ]
    }
   ],
   "source": [
    "print('APPLY: transform data in columns')\n",
    "df = df1.merge(df2, how='outer', on=['Name', 'Surname'])\n",
    "df['Age'][0]=22\n",
    "print(df)\n",
    "print('\\nMultiply age with 2')\n",
    "print(df.apply(lambda x: x['Age']*2, axis=1)) # note that it is crucial to state axis = 1 (seems counterintuitive, as lambda is applied across rows)\n",
    "\n",
    "print('\\nWhile lambda is a short anonymous function, this also works with CUSTOMIZED Fx that are passed to apply().\\nHere we recode gender to a numeric val.\\n')\n",
    "def rec_Gender(x):\n",
    "    if x['Gender'] == 'male':\n",
    "        x['Gender'] = 1\n",
    "    elif x['Gender'] == 'female':\n",
    "        x['Gender'] = 2\n",
    "    \n",
    "    return x\n",
    "\n",
    "print(df.apply(rec_Gender, axis=1))\n",
    "\n",
    "print('\\nFor a fake dataset with entries for 2010-14, calculate mean per row for a certain time range')\n",
    "import numpy as np\n",
    "dfX = pd.DataFrame(np.random.rand(5,4), columns = range(2010,2014))\n",
    "\n",
    "def calcMean(x):\n",
    "    return np.mean(x)\n",
    "\n",
    "print(dfX)\n",
    "dfX['ave11_13'] = dfX[[2011, 2012, 2013]].apply(calcMean, axis=1)\n",
    "print(dfX)\n",
    "# dfX['ave11_13'] = dfX[[2011, 2012, 2013]].apply(lambda x: np.mean(x), axis=1) # LAMBDA Version of this ..."
   ]
  },
  {
   "cell_type": "markdown",
   "id": "33cee29c-d6fc-42b0-924d-d8ecbc2a0d08",
   "metadata": {},
   "source": [
    "---------\n",
    "__Split, apply, combine (groupby, aggregate, transform, filter)__ \\\n",
    "'Groupby selects data from a DF based on certain keys, applies transformations and returns the processed data in a new DF. This allows for calculating group statistics (.agg), transform the group data or to discard data using filters "
   ]
  },
  {
   "cell_type": "code",
   "execution_count": 129,
   "id": "a2e55c4f-f444-4e91-aaa5-f4a050584e89",
   "metadata": {},
   "outputs": [
    {
     "name": "stdout",
     "output_type": "stream",
     "text": [
      "Groupby allows for selecting data and putting it into a DataFrameGroupBy object\n",
      "Good tutorial on grouping-related FX: https://www.tutorialspoint.com/python_pandas/python_pandas_groupby.htm\n",
      "    Name Surname  Gender      Course  Grade\n",
      "0    Jim  Reilly    male       Maths     15\n",
      "1  James  Sutton    male  Psychology     14\n",
      "2   Jill  Osmond  female       Maths     17\n",
      "3  James  Reilly    male  Psychology     16\n",
      "4   Jane     Doe  female  Psychology     21\n",
      "5    Jen  Sutton  female  Psychology     19\n",
      "\n",
      "Use groups to show groups & members (indices), eg after grouping by COURSE\n",
      "{'Maths': [0, 2], 'Psychology': [1, 3, 4, 5]}\n",
      "Use .get_group() to select one group, eg Maths\n",
      "   Name Surname  Gender Course  Grade\n",
      "0   Jim  Reilly    male  Maths     15\n",
      "2  Jill  Osmond  female  Maths     17\n",
      "\n",
      "ITERATING through all groups\n",
      "2 cases in group Maths, mean score: 16.0\n",
      "4 cases in group Psychology, mean score: 17.5\n",
      "\n",
      "Using a multi-index\n",
      "                    Name Surname  Grade\n",
      "Course     Gender                      \n",
      "Maths      male      Jim  Reilly     15\n",
      "Psychology male    James  Sutton     14\n",
      "Maths      female   Jill  Osmond     17\n",
      "Psychology male    James  Reilly     16\n",
      "           female   Jane     Doe     21\n",
      "           female    Jen  Sutton     19\n",
      "1 cases in group ('Maths', 'female'), mean score: 17.0\n",
      "1 cases in group ('Maths', 'male'), mean score: 15.0\n",
      "2 cases in group ('Psychology', 'female'), mean score: 20.0\n",
      "2 cases in group ('Psychology', 'male'), mean score: 15.0\n",
      "\n",
      "Groupby can use the output of CUSTOMIZED FX (example: compare ppl with surnames, 1st vs 2nd half in alphabet)\n",
      "         Grade\n",
      "Surname       \n",
      "1         21.0\n",
      "2         16.2\n",
      "Cases per group: [1, 5]\n",
      "Group ind 1\n",
      "                   Name Surname  Grade\n",
      "Course     Gender                     \n",
      "Psychology female  Jane     Doe     21\n",
      "Group ind 2\n",
      "                    Name Surname  Grade\n",
      "Course     Gender                      \n",
      "Maths      male      Jim  Reilly     15\n",
      "Psychology male    James  Sutton     14\n",
      "Maths      female   Jill  Osmond     17\n",
      "Psychology male    James  Reilly     16\n",
      "           female    Jen  Sutton     19\n"
     ]
    }
   ],
   "source": [
    "print('Groupby allows for selecting data and putting it into a DataFrameGroupBy object')\n",
    "print('Good tutorial on grouping-related FX: https://www.tutorialspoint.com/python_pandas/python_pandas_groupby.htm')\n",
    "df = pd.DataFrame([['Jim', 'Reilly', 'male', 'Maths', 15], \n",
    "['James', 'Sutton', 'male', 'Psychology', 14],\n",
    "['Jill', 'Osmond', 'female', 'Maths', 17],\n",
    "['James', 'Reilly', 'male', 'Psychology', 16],\n",
    "['Jane', 'Doe', 'female', 'Psychology', 21],\n",
    "['Jen', 'Sutton', 'female', 'Psychology', 19]],\n",
    "columns = ['Name', 'Surname', 'Gender', 'Course', 'Grade'])\n",
    "print(df)\n",
    "\n",
    "print('\\nUse groups to show groups & members (indices), eg after grouping by COURSE')\n",
    "a = df.groupby('Course')\n",
    "print(a.groups)\n",
    "print('Use .get_group() to select one group, eg Maths')\n",
    "print(a.get_group('Maths'))\n",
    "\n",
    "print('\\nITERATING through all groups')\n",
    "for group, frame in df.groupby('Course'):\n",
    "    avg = np.average(frame['Grade'])\n",
    "    print(str(len(frame)) + ' cases in group ' + group + ', mean score: '  + str(avg))\n",
    "\n",
    "print('\\nUsing a multi-index')\n",
    "df = df.set_index(['Course', 'Gender'])\n",
    "print(df)\n",
    "for group, frame in df.groupby(level=(0,1)):\n",
    "    avg = np.average(frame['Grade'])\n",
    "    print(str(len(frame)) + ' cases in group ' + str(group) + ', mean score: '  + str(avg))\n",
    "\n",
    "print('\\nGroupby can use the output of CUSTOMIZED FX (example: compare ppl with surnames, 1st vs 2nd half in alphabet)')    \n",
    "def groupFX(item):\n",
    "    if item[0]<='M':\n",
    "        return 1\n",
    "    elif item[0]>'M':\n",
    "        return 2\n",
    "    \n",
    "a = df.groupby(df['Surname'].apply(groupFX))\n",
    "print(a.mean())\n",
    "print('Cases per group: ' + str([len(a.groups[1]), len(a.groups[2])]))\n",
    "\n",
    "for group, frame in df.groupby(df['Surname'].apply(groupFX)):\n",
    "    print('Group ind ' + str(group))\n",
    "    print(frame)"
   ]
  },
  {
   "cell_type": "code",
   "execution_count": 130,
   "id": "ebd5c4e9-2c65-40a1-97cf-c569b26d62e2",
   "metadata": {},
   "outputs": [
    {
     "name": "stdout",
     "output_type": "stream",
     "text": [
      "AGGREGATES (.agg) yields group summaries (NOTE: this has been done above manually). \n",
      "Multiple group statistics can be queried simultaneously (e.g group means, std and sample sizes) if lists are used\n",
      "           Grade               \n",
      "            mean       std size\n",
      "Course                         \n",
      "Maths       16.0  1.414214    2\n",
      "Psychology  17.5  3.109126    4\n",
      "TRANSFORM modifies ALL values within a group, separately for each group. Returns the same number of elements as in the input DF (ie transformation of all elements\n",
      "                    Name Surname  Grade  Group Ave GENDER  Group Ave COURSE\n",
      "Course     Gender                                                          \n",
      "Maths      male      Jim  Reilly     15              15.0              16.0\n",
      "Psychology male    James  Sutton     14              15.0              17.5\n",
      "Maths      female   Jill  Osmond     17              19.0              16.0\n",
      "Psychology male    James  Reilly     16              15.0              17.5\n",
      "           female   Jane     Doe     21              19.0              17.5\n",
      "           female    Jen  Sutton     19              19.0              17.5\n",
      "\n",
      "APPLY is often used as it allows for modifying the elements in a group separately per group (NOTE: apply can also be used as a FILTER)\n",
      "Course      Gender\n",
      "Maths       male     -1.000000\n",
      "Psychology  male     -1.299867\n",
      "            male     -0.557086\n",
      "Maths       female    1.000000\n",
      "Psychology  female    1.299867\n",
      "            female    0.557086\n",
      "Name: Grade, dtype: float64\n"
     ]
    },
    {
     "name": "stderr",
     "output_type": "stream",
     "text": [
      "C:\\Users\\s01tk9\\AppData\\Local\\Temp\\ipykernel_6180\\2987355682.py:5: FutureWarning: ['Name', 'Surname'] did not aggregate successfully. If any error is raised this will raise in a future version of pandas. Drop these columns/ops to avoid this warning.\n",
      "  print(a.agg([np.mean, np.std, np.size]))\n"
     ]
    }
   ],
   "source": [
    "import numpy as np\n",
    "print('AGGREGATES (.agg) yields group summaries (NOTE: this has been done above manually). \\nMultiple group statistics can be queried simultaneously (e.g group means, std and sample sizes) if lists are used')\n",
    "a = df.groupby('Course')\n",
    "#print(a.agg(np.mean)) \n",
    "print(a.agg([np.mean, np.std, np.size])) \n",
    "print('TRANSFORM modifies ALL values within a group, separately for each group. Returns the same number of elements as in the input DF (ie transformation of all elements')\n",
    "df['Group Ave GENDER'] = df.groupby('Gender')['Grade'].transform(np.mean)\n",
    "df['Group Ave COURSE'] = df.groupby('Course')['Grade'].transform(np.mean)\n",
    "print(df)\n",
    "\n",
    "print('\\nAPPLY is often used as it allows for modifying the elements in a group separately per group (NOTE: apply can also be used as a FILTER)')\n",
    "#df['zscore_rel2Group'] = df.groupby('Gender')['Grade'].apply(lambda x: (x - np.mean(x))/np.std(x))\n",
    "print(df.groupby('Course')['Grade'].apply(lambda x: (x - np.mean(x))/np.std(x)))"
   ]
  },
  {
   "cell_type": "markdown",
   "id": "50cc24b8-dec1-4cc1-91f8-08204675460f",
   "metadata": {},
   "source": [
    "---------\n",
    "__Scales: working with categorical & ordinal data (astype)__"
   ]
  },
  {
   "cell_type": "code",
   "execution_count": 131,
   "id": "621be09c-c409-44b3-898e-0238040ab545",
   "metadata": {},
   "outputs": [
    {
     "name": "stdout",
     "output_type": "stream",
     "text": [
      "Pandas allows for treating data as a particular category\n",
      "Some school grades in random order:\n",
      "    0\n",
      "0  A+\n",
      "1  D-\n",
      "2  D+\n",
      "3   A\n",
      "4  A-\n",
      "5   D\n",
      "Ordered - but not correctly: A comes before A+\n",
      "    0\n",
      "0  A+\n",
      "1  D-\n",
      "2  D+\n",
      "3   A\n",
      "4  A-\n",
      "5   D\n",
      "Ordered cats are ordinal (not nominal) - it is possible to check which grades are better than D (ie <)\n",
      "    0\n",
      "0  A+\n",
      "2  D+\n",
      "3   A\n",
      "4  A-\n",
      "    0  WorseThanAminus\n",
      "0  A+            False\n",
      "1  D-             True\n",
      "2  D+             True\n",
      "3   A            False\n",
      "4  A-            False\n",
      "5   D             True\n"
     ]
    }
   ],
   "source": [
    "print('Pandas allows for treating data as a particular category')\n",
    "grad = pd.DataFrame(['A+', 'D-', 'D+', 'A', 'A-', 'D'])\n",
    "print('Some school grades in random order:')\n",
    "print(grad)\n",
    "print('Ordered - but not correctly: A comes before A+')\n",
    "#print(grad.astype('category'))\n",
    "\n",
    "myCat = pd.CategoricalDtype(['A+', 'A', 'A-', 'D+', 'D', 'D-'], ordered=True)\n",
    "orderedCat = grad.astype(myCat)\n",
    "print(orderedCat)\n",
    "\n",
    "print('Ordered cats are ordinal (not nominal) - it is possible to check which grades are better than D (ie <)')\n",
    "print(orderedCat[orderedCat < 'D'].dropna())\n",
    "orderedCat['WorseThanAminus'] = orderedCat > 'A-'\n",
    "print(orderedCat)"
   ]
  },
  {
   "cell_type": "code",
   "execution_count": 132,
   "id": "00289c96-c172-4914-9a01-1ac8d3c82387",
   "metadata": {},
   "outputs": [
    {
     "name": "stdout",
     "output_type": "stream",
     "text": [
      "Data can be grouped into bins using pd.cut()\n",
      "      Score             Bin\n",
      "0  0.627264  (0.569, 0.627]\n",
      "1  0.044563  (0.044, 0.103]\n",
      "2  0.417116  (0.394, 0.452]\n",
      "3  0.449473  (0.394, 0.452]\n",
      "4  0.047267  (0.044, 0.103]\n",
      "5   0.47477  (0.452, 0.511]\n"
     ]
    }
   ],
   "source": [
    "print('Data can be grouped into bins using pd.cut()')\n",
    "a = pd.Series(np.random.rand(6))\n",
    "b = pd.cut(a,10)\n",
    "print(pd.DataFrame([a.T,b.T], index = ['Score', 'Bin']).T)"
   ]
  },
  {
   "cell_type": "code",
   "execution_count": 133,
   "id": "b686c82a-a4fb-46ea-8bf5-622097217c81",
   "metadata": {},
   "outputs": [
    {
     "name": "stdout",
     "output_type": "stream",
     "text": [
      "Dummy variables\n",
      "    Name Surname  Gender      Course  Grade\n",
      "0    Jim  Reilly    male       Maths     18\n",
      "1  James  Sutton    male  Psychology     14\n",
      "2   Jill  Osmond  female       Maths     17\n",
      "3  James  Reilly    male  Psychology     16\n",
      "4   Jane     Doe  female  Psychology     21\n",
      "\n",
      "Dummies for nominal vars (Gender, Course) with drop first option.\n",
      "\n",
      "    Name Surname  Grade  Gender_male  Course_Psychology\n",
      "0    Jim  Reilly     18            1                  0\n",
      "1  James  Sutton     14            1                  1\n",
      "2   Jill  Osmond     17            0                  0\n",
      "3  James  Reilly     16            1                  1\n",
      "4   Jane     Doe     21            0                  1\n"
     ]
    }
   ],
   "source": [
    "print('Dummy variables')\n",
    "\n",
    "df = pd.DataFrame([['Jim', 'Reilly', 'male', 'Maths', 18], \n",
    "['James', 'Sutton', 'male', 'Psychology', 14],\n",
    "['Jill', 'Osmond', 'female', 'Maths', 17],\n",
    "['James', 'Reilly', 'male', 'Psychology', 16],\n",
    "['Jane', 'Doe', 'female', 'Psychology', 21]],\n",
    "columns = ['Name', 'Surname', 'Gender', 'Course', 'Grade'])\n",
    "\n",
    "print(df); print(''); \n",
    "print('Dummies for nominal vars (Gender, Course) with drop first option.\\n')\n",
    "print(pd.get_dummies(df, columns=['Gender', 'Course'], drop_first=True))"
   ]
  },
  {
   "cell_type": "markdown",
   "id": "633d1e9e-a7b1-4ed3-9ee0-bd5eed3e6d77",
   "metadata": {},
   "source": [
    "-------------------------\n",
    "__Pivot Tables = Group/Sample Statistics__\n"
   ]
  },
  {
   "cell_type": "code",
   "execution_count": 134,
   "id": "a5105133-1c9d-4d50-96c3-8c45fc725bf8",
   "metadata": {},
   "outputs": [
    {
     "name": "stdout",
     "output_type": "stream",
     "text": [
      "Pivot tables provide a sample statistic by summarizing the data\n",
      "   world_rank                            institution         country  \\\n",
      "0           1                     Harvard University             USA   \n",
      "1           2  Massachusetts Institute of Technology             USA   \n",
      "2           3                    Stanford University             USA   \n",
      "3           4                University of Cambridge  United Kingdom   \n",
      "4           5     California Institute of Technology             USA   \n",
      "\n",
      "   national_rank  quality_of_education  alumni_employment  quality_of_faculty  \\\n",
      "0              1                     7                  9                   1   \n",
      "1              2                     9                 17                   3   \n",
      "2              3                    17                 11                   5   \n",
      "3              1                    10                 24                   4   \n",
      "4              4                     2                 29                   7   \n",
      "\n",
      "   publications  influence  citations  broad_impact  patents   score  year  \n",
      "0             1          1          1           NaN        5  100.00  2012  \n",
      "1            12          4          4           NaN        1   91.67  2012  \n",
      "2             4          2          2           NaN       15   89.50  2012  \n",
      "3            16         16         11           NaN       50   86.17  2012  \n",
      "4            37         22         22           NaN       18   85.21  2012  \n",
      "\n",
      "Custom function (apply) categorized institutions in 4 tiers based on world_rank\n",
      "                                   institution  world_rank  Tiers   score\n",
      "country                                                                  \n",
      "USA                         Harvard University           1  First  100.00\n",
      "Sweden                    Karolinska Institute          73  First   53.64\n",
      "Japan                        Tohoku University          72  First   53.65\n",
      "USA                      Vanderbilt University          71  First   53.69\n",
      "USA                      University of Arizona          70  First   53.77\n",
      "...                                        ...         ...    ...     ...\n",
      "Hong Kong      Chinese University of Hong Kong         220  Third   47.05\n",
      "USA        University of Massachusetts Amherst         219  Third   47.05\n",
      "USA                  University of Connecticut         218  Third   47.06\n",
      "Australia      University of Western Australia         216  Third   47.10\n",
      "Austria                   University of Vienna         223  Third   47.03\n",
      "\n",
      "[2200 rows x 4 columns]\n",
      "PIVOT TABLE: Summary statistic for variable X (here, academic score)\n",
      "              mean                               \n",
      "Tiers        First      Other   Second      Third\n",
      "country                                          \n",
      "Argentina      NaN  44.672857      NaN        NaN\n",
      "Australia  47.9425  44.645750  49.2425  47.285000\n",
      "Austria        NaN  44.864286      NaN  47.066667\n",
      "Belgium    51.8750  45.081000  49.0840  46.746667\n",
      "Brazil         NaN  44.499706  49.5650        NaN\n",
      "\n",
      "PIVOT TABLE: with 3 measures (sample size, mean, std) and MARGINS\n",
      "           size                            mean                      \\\n",
      "Tiers     First Other Second Third All    First      Other   Second   \n",
      "country                                                               \n",
      "Argentina   NaN   7.0    NaN   NaN   7      NaN  44.672857      NaN   \n",
      "Australia   8.0  40.0    8.0   2.0  58  47.9425  44.645750  49.2425   \n",
      "Austria     NaN  21.0    NaN   3.0  24      NaN  44.864286      NaN   \n",
      "Belgium     2.0  10.0    5.0   3.0  20  51.8750  45.081000  49.0840   \n",
      "Brazil      NaN  34.0    2.0   NaN  36      NaN  44.499706  49.5650   \n",
      "\n",
      "                                      std                                \\\n",
      "Tiers          Third        All     First     Other    Second     Third   \n",
      "country                                                                   \n",
      "Argentina        NaN  44.672857       NaN  0.599130       NaN       NaN   \n",
      "Australia  47.285000  45.825517  3.798397  0.386542  0.820640  0.261630   \n",
      "Austria    47.066667  45.139583       NaN  0.590191       NaN  0.695725   \n",
      "Belgium    46.746667  47.011000  0.219203  0.786419  0.829958  0.481283   \n",
      "Brazil           NaN  44.781111       NaN  0.490476  0.360624       NaN   \n",
      "\n",
      "                     \n",
      "Tiers           All  \n",
      "country              \n",
      "Argentina  0.599130  \n",
      "Australia  2.297206  \n",
      "Austria    0.947929  \n",
      "Belgium    2.461225  \n",
      "Brazil     1.270909  \n",
      "\n",
      "Pivot tables are multi-index DFs. It is possible to get any combination of columns, eg mean & first tier\n",
      "country\n",
      "Argentina        NaN\n",
      "Australia    47.9425\n",
      "Austria          NaN\n",
      "Belgium      51.8750\n",
      "Brazil           NaN\n",
      "Name: First, dtype: float64\n",
      "Get the entry with the max score using idxmax:\n",
      "United Kingdom\n",
      "\n",
      "Use STACK to move the lowest (=last) column to innermost position to improve readability\n",
      "                  size       mean       std\n",
      "country   Tiers                            \n",
      "Argentina Other    7.0  44.672857  0.599130\n",
      "          All      7.0  44.672857  0.599130\n",
      "Australia First    8.0  47.942500  3.798397\n",
      "          Other   40.0  44.645750  0.386542\n",
      "          Second   8.0  49.242500  0.820640\n",
      "NOTE: Unstack can also be used, up to the point where there is only a single column left\n"
     ]
    }
   ],
   "source": [
    "print('Pivot tables provide a sample statistic by summarizing the data')\n",
    "fn = r'https://raw.github.com/tkatus/coursera_lecture_notes/main/lectures_datasets/cwurData.csv'\n",
    "df = pd.read_csv(fn)\n",
    "print(df.head())\n",
    "\n",
    "def getTiers(x): \n",
    "    if (x >= 1) & (x < 101):\n",
    "        return 'First'\n",
    "    elif (x >= 101) & (x < 201):\n",
    "        return 'Second'\n",
    "    elif (x >= 201) & (x < 301):\n",
    "        return 'Third'\n",
    "    else:\n",
    "        return 'Other'\n",
    "\n",
    "df['Tiers'] = df['world_rank'].apply(getTiers)\n",
    "df = df.set_index('country')\n",
    "\n",
    "print('\\nCustom function (apply) categorized institutions in 4 tiers based on world_rank')\n",
    "selCols = ['institution', 'world_rank', 'Tiers', 'score']    \n",
    "df['Tiers'] = df['world_rank'].apply(getTiers)\n",
    "df = df.sort_values('Tiers')\n",
    "print(df[selCols])\n",
    "piv = df.pivot_table(values = 'score', columns = 'Tiers', index = df.index, aggfunc = [np.mean])\n",
    "print('PIVOT TABLE: Summary statistic for variable X (here, academic score)')\n",
    "print(piv.head())\n",
    "\n",
    "df = df.reset_index()\n",
    "piv = df.pivot_table(values = 'score', columns = 'Tiers', index = 'country', aggfunc = [np.size, np.mean, np.std], margins=True)\n",
    "print('\\nPIVOT TABLE: with 3 measures (sample size, mean, std) and MARGINS')\n",
    "print(piv.head())\n",
    "\n",
    "print('\\nPivot tables are multi-index DFs. It is possible to get any combination of columns, eg mean & first tier')\n",
    "print(piv['mean']['First'].head())\n",
    "print('Get the entry with the max score using idxmax:')\n",
    "print(piv['mean']['First'].idxmax())\n",
    "print('\\nUse STACK to move the lowest (=last) column to innermost position to improve readability')\n",
    "print(piv.stack().head())\n",
    "print('NOTE: Unstack can also be used, up to the point where there is only a single column left')"
   ]
  },
  {
   "cell_type": "markdown",
   "id": "2a4fd075-84f9-499a-bbfb-2e4c0cfc0244",
   "metadata": {},
   "source": [
    "---------\n",
    "__Date/Time Fx (timestamp, period)__"
   ]
  },
  {
   "cell_type": "code",
   "execution_count": 135,
   "id": "682e6573-064e-46db-8e9c-0e163a497935",
   "metadata": {},
   "outputs": [
    {
     "name": "stdout",
     "output_type": "stream",
     "text": [
      "TimeStamp from string\n",
      "2019-11-12 00:00:00\n",
      "TimeStamp from numeric vals\n",
      "2019-11-12 13:15:00\n",
      "Read out info (Y, M, W, D, ... sec): Day 2 in week 46, minute 15\n"
     ]
    }
   ],
   "source": [
    "print('TimeStamp from string')\n",
    "print(pd.Timestamp('2019-11-12'))\n",
    "print('TimeStamp from numeric vals')\n",
    "a = pd.Timestamp(2019, 11, 12, 13, 15)\n",
    "print(a)\n",
    "print('Read out info (Y, M, W, D, ... sec): Day ' + str(a.isoweekday()) + ' in week ' + str(a.week) + ', minute ' + str(a.minute))\n"
   ]
  },
  {
   "cell_type": "code",
   "execution_count": 136,
   "id": "3bdb4bad-c032-4d81-a023-803547a3b301",
   "metadata": {},
   "outputs": [
    {
     "name": "stdout",
     "output_type": "stream",
     "text": [
      "Period defines a variable interval (eg year, month, week etc)\n",
      "2020\n",
      "2020-12\n",
      "2020-12-27\n"
     ]
    },
    {
     "name": "stderr",
     "output_type": "stream",
     "text": [
      "C:\\Users\\s01tk9\\Anaconda3\\lib\\site-packages\\IPython\\core\\interactiveshell.py:3106: UserWarning: Parsing '27/12/2020' in DD/MM/YYYY format. Provide format or specify infer_datetime_format=True for consistent parsing.\n",
      "  has_raised = await self.run_ast_nodes(code_ast.body, cell_name,\n"
     ]
    }
   ],
   "source": [
    "print('Period defines a variable interval (eg year, month, week etc)')\n",
    "print(pd.Period('2020'))\n",
    "print(pd.Period('12/2020'))\n",
    "print(pd.Period('27/12/2020'))"
   ]
  },
  {
   "cell_type": "code",
   "execution_count": 137,
   "id": "3edfb4df-23f1-43ac-a5dd-e17903ccaf71",
   "metadata": {},
   "outputs": [
    {
     "name": "stdout",
     "output_type": "stream",
     "text": [
      "Using timestamps in a series (note: enter dates as STRINGS!)\n",
      "2019-11-12    a\n",
      "2019-11-13    b\n",
      "dtype: object\n",
      "The timestamp here is the index)\n",
      "DatetimeIndex(['2019-11-12', '2019-11-13'], dtype='datetime64[ns]', freq=None)\n",
      "Using timestamps in a DF\n",
      "  event  timestamp\n",
      "0     a 2019-11-12\n",
      "1     b 2019-11-13\n",
      "Using periods works exactly the same\n",
      "  event   timestamp\n",
      "0     a  2019-11-12\n",
      "1     b  2019-11-13\n",
      "Time can be used as index\n",
      "           event\n",
      "timestamp       \n",
      "2019-11-12     a\n",
      "2019-11-13     b\n"
     ]
    }
   ],
   "source": [
    "print('Using timestamps in a series (note: enter dates as STRINGS!)')\n",
    "a = pd.Series(['a','b'], [pd.Timestamp('2019-11-12'), pd.Timestamp('2019-11-13')])\n",
    "print(a)\n",
    "print('The timestamp here is the index)')\n",
    "print(a.index)\n",
    "\n",
    "print('Using timestamps in a DF')\n",
    "print(pd.DataFrame([['a', pd.Timestamp('2019-11-12')], ['b', pd.Timestamp('2019-11-13')]], columns=['event', 'timestamp']))\n",
    "print('Using periods works exactly the same')\n",
    "a = pd.DataFrame([['a', pd.Period('2019-11-12')], ['b', pd.Period('2019-11-13')]], columns=['event', 'timestamp'])\n",
    "print(a)\n",
    "print('Time can be used as index')\n",
    "print(a.set_index('timestamp'))"
   ]
  },
  {
   "cell_type": "code",
   "execution_count": 138,
   "id": "816f3ca2-b0ee-44fe-9d32-d8d6ac19863c",
   "metadata": {},
   "outputs": [
    {
     "name": "stdout",
     "output_type": "stream",
     "text": [
      "This DF has a variety of timestamp formats\n",
      "            a  b\n",
      "Aug-1989    1  2\n",
      "15-09-1755  3  4\n",
      "9/11/2001   5  6\n",
      "It is straightforward to convert dates to standard format\n",
      "            a  b\n",
      "1989-08-01  1  2\n",
      "1755-09-15  3  4\n",
      "2001-09-11  5  6\n",
      "Switching between US and European formats (day before month?)\n",
      "DatetimeIndex(['2001-11-09'], dtype='datetime64[ns]', freq=None)\n",
      "DatetimeIndex(['2001-09-11'], dtype='datetime64[ns]', freq=None)\n"
     ]
    },
    {
     "name": "stderr",
     "output_type": "stream",
     "text": [
      "C:\\Users\\s01tk9\\AppData\\Local\\Temp\\ipykernel_6180\\1609052110.py:5: UserWarning: Parsing '15-09-1755' in DD/MM/YYYY format. Provide format or specify infer_datetime_format=True for consistent parsing.\n",
      "  a.index = pd.to_datetime(a.index)\n"
     ]
    }
   ],
   "source": [
    "print('This DF has a variety of timestamp formats')\n",
    "a = pd.DataFrame([[1,2],[3,4],[5,6]],index=['Aug-1989', '15-09-1755', '9/11/2001'],columns=['a', 'b'])\n",
    "print(a)\n",
    "print('It is straightforward to convert dates to standard format')\n",
    "a.index = pd.to_datetime(a.index) \n",
    "print(a)\n",
    "\n",
    "print('Switching between US and European formats (day before month?)')\n",
    "print(pd.to_datetime(['11/09/2001'], dayfirst=False))\n",
    "print(pd.to_datetime(['11/09/2001'], dayfirst=True))"
   ]
  },
  {
   "cell_type": "code",
   "execution_count": 139,
   "id": "4f41550d-8b8b-4ade-ae9c-5e91076b57e0",
   "metadata": {},
   "outputs": [
    {
     "name": "stdout",
     "output_type": "stream",
     "text": [
      "timedelta allows for measuring time since a particular timepoint\n",
      "11141 days 00:00:00\n",
      "it can be used to add a delta to a date\n",
      "2021-10-27 04:00:12\n",
      "offset is used to add standard calendar intervals, eg a week\n",
      "2021-10-30 00:00:00\n",
      "Or until the months end\n",
      "2021-10-31 00:00:00\n",
      "If you have to pay Netflix on a quarterly basis, here are the running costs\n",
      "            amount  cumAmount\n",
      "2020-08-01     9.5        9.5\n",
      "2020-11-01     9.5       19.0\n",
      "2021-02-01     9.5       28.5\n",
      "2021-05-01     9.5       38.0\n",
      "2021-08-01     9.5       47.5\n",
      "2021-11-01     9.5       57.0\n",
      "2022-02-01     9.5       66.5\n",
      "2022-05-01     9.5       76.0\n",
      "What if there is a cost raise after JUL-2021? The TRICK is to first get the mask, then do the assignment (NOT in one step)\n",
      "            amount  cumAmount\n",
      "2020-08-01     9.5        9.5\n",
      "2020-11-01     9.5       19.0\n",
      "2021-02-01     9.5       28.5\n",
      "2021-05-01     9.5       38.0\n",
      "2021-08-01    10.5       48.5\n",
      "2021-11-01    10.5       59.0\n",
      "2022-02-01    10.5       69.5\n",
      "2022-05-01    10.5       80.0\n",
      "Resampling allows for grouping dates that fall into one period, e.g. per end of calendar year\n",
      "            amount  cumAmount\n",
      "2020-12-31    19.0       28.5\n",
      "2021-12-31    40.0      174.0\n",
      "2022-12-31    21.0      149.5\n",
      "To select time data per date, it is possible to just state the year\n",
      "            amount  cumAmount\n",
      "2021-02-01     9.5       28.5\n",
      "2021-05-01     9.5       38.0\n",
      "2021-08-01    10.5       48.5\n",
      "2021-11-01    10.5       59.0\n",
      " ... and it is also possible to slice this way, eg for selecting dates past SEPT 2021\n",
      "            amount  cumAmount\n",
      "2021-11-01    10.5       59.0\n",
      "2022-02-01    10.5       69.5\n",
      "2022-05-01    10.5       80.0\n"
     ]
    },
    {
     "name": "stderr",
     "output_type": "stream",
     "text": [
      "C:\\Users\\s01tk9\\Anaconda3\\lib\\site-packages\\IPython\\core\\interactiveshell.py:3106: UserWarning: Parsing '23.10.2021' in DD/MM/YYYY format. Provide format or specify infer_datetime_format=True for consistent parsing.\n",
      "  has_raised = await self.run_ast_nodes(code_ast.body, cell_name,\n",
      "C:\\Users\\s01tk9\\Anaconda3\\lib\\site-packages\\IPython\\core\\interactiveshell.py:3106: UserWarning: Parsing '23.04.1991' in DD/MM/YYYY format. Provide format or specify infer_datetime_format=True for consistent parsing.\n",
      "  has_raised = await self.run_ast_nodes(code_ast.body, cell_name,\n"
     ]
    }
   ],
   "source": [
    "print('timedelta allows for measuring time since a particular timepoint')\n",
    "print(pd.Timestamp('23.10.2021') - pd.Timestamp('23.04.1991'))\n",
    "print('it can be used to add a delta to a date')\n",
    "print(pd.Timestamp('23.10.2021') + pd.Timedelta('3D 28h 12s'))\n",
    "print('offset is used to add standard calendar intervals, eg a week')\n",
    "print(pd.Timestamp('23.10.2021') + pd.offsets.Week())\n",
    "print('Or until the months end')\n",
    "print(pd.Timestamp('23.10.2021') + pd.offsets.MonthEnd())\n",
    "\n",
    "print('If you have to pay Netflix on a quarterly basis, here are the running costs')\n",
    "import numpy as np\n",
    "a = pd.date_range('Aug-2020', periods=8, freq='QS-AUG')\n",
    "b = np.tile(9.5, (8, 1))\n",
    "c = pd.DataFrame(b,columns=['amount'], index=a)\n",
    "c['cumAmount']=c['amount'].cumsum()\n",
    "print(c)\n",
    "print('What if there is a cost raise after JUL-2021? The TRICK is to first get the mask, then do the assignment (NOT in one step)')\n",
    "mask = c.index > pd.Timestamp('JUL-2021') # if the date were no index, you'd simply could use the column ID, eg c['date']  \n",
    "c['amount'][mask] +=1\n",
    "c['cumAmount']=c['amount'].cumsum()\n",
    "print(c)\n",
    "\n",
    "print('Resampling allows for grouping dates that fall into one period, e.g. per end of calendar year')\n",
    "print(c.resample('Y').sum())\n",
    "print('To select time data per date, it is possible to just state the year')\n",
    "print(c.loc['2021'])\n",
    "print(' ... and it is also possible to slice this way, eg for selecting dates past SEPT 2021')\n",
    "print(c.loc['SEP-2021':]) # works also with '2021-09'"
   ]
  }
 ],
 "metadata": {
  "kernelspec": {
   "display_name": "Python 3 (ipykernel)",
   "language": "python",
   "name": "python3"
  },
  "language_info": {
   "codemirror_mode": {
    "name": "ipython",
    "version": 3
   },
   "file_extension": ".py",
   "mimetype": "text/x-python",
   "name": "python",
   "nbconvert_exporter": "python",
   "pygments_lexer": "ipython3",
   "version": "3.8.13"
  }
 },
 "nbformat": 4,
 "nbformat_minor": 5
}
